{
 "cells": [
  {
   "cell_type": "markdown",
   "id": "30680759",
   "metadata": {
    "papermill": {
     "duration": 0.005552,
     "end_time": "2023-04-30T03:44:45.023038",
     "exception": false,
     "start_time": "2023-04-30T03:44:45.017486",
     "status": "completed"
    },
    "tags": []
   },
   "source": [
    "**This notebook is an exercise in the [Pandas](https://www.kaggle.com/learn/pandas) course.  You can reference the tutorial at [this link](https://www.kaggle.com/residentmario/data-types-and-missing-values).**\n",
    "\n",
    "---\n"
   ]
  },
  {
   "cell_type": "markdown",
   "id": "01cc4fba",
   "metadata": {
    "papermill": {
     "duration": 0.004104,
     "end_time": "2023-04-30T03:44:45.031770",
     "exception": false,
     "start_time": "2023-04-30T03:44:45.027666",
     "status": "completed"
    },
    "tags": []
   },
   "source": [
    "# Introduction\n",
    "\n",
    "Run the following cell to load your data and some utility functions."
   ]
  },
  {
   "cell_type": "code",
   "execution_count": 1,
   "id": "f4541a12",
   "metadata": {
    "execution": {
     "iopub.execute_input": "2023-04-30T03:44:45.042808Z",
     "iopub.status.busy": "2023-04-30T03:44:45.042338Z",
     "iopub.status.idle": "2023-04-30T03:44:47.978981Z",
     "shell.execute_reply": "2023-04-30T03:44:47.977714Z"
    },
    "papermill": {
     "duration": 2.945808,
     "end_time": "2023-04-30T03:44:47.982146",
     "exception": false,
     "start_time": "2023-04-30T03:44:45.036338",
     "status": "completed"
    },
    "tags": []
   },
   "outputs": [
    {
     "name": "stdout",
     "output_type": "stream",
     "text": [
      "Setup complete.\n"
     ]
    }
   ],
   "source": [
    "import pandas as pd\n",
    "\n",
    "reviews = pd.read_csv(\"../input/wine-reviews/winemag-data-130k-v2.csv\", index_col=0)\n",
    "\n",
    "from learntools.core import binder; binder.bind(globals())\n",
    "from learntools.pandas.data_types_and_missing_data import *\n",
    "print(\"Setup complete.\")"
   ]
  },
  {
   "cell_type": "markdown",
   "id": "eb8ae03c",
   "metadata": {
    "papermill": {
     "duration": 0.004247,
     "end_time": "2023-04-30T03:44:47.991108",
     "exception": false,
     "start_time": "2023-04-30T03:44:47.986861",
     "status": "completed"
    },
    "tags": []
   },
   "source": [
    "# Exercises"
   ]
  },
  {
   "cell_type": "markdown",
   "id": "44c73467",
   "metadata": {
    "papermill": {
     "duration": 0.004039,
     "end_time": "2023-04-30T03:44:47.999581",
     "exception": false,
     "start_time": "2023-04-30T03:44:47.995542",
     "status": "completed"
    },
    "tags": []
   },
   "source": [
    "## 1. \n",
    "What is the data type of the `points` column in the dataset?"
   ]
  },
  {
   "cell_type": "code",
   "execution_count": 2,
   "id": "43bcafe6",
   "metadata": {
    "execution": {
     "iopub.execute_input": "2023-04-30T03:44:48.010856Z",
     "iopub.status.busy": "2023-04-30T03:44:48.009897Z",
     "iopub.status.idle": "2023-04-30T03:44:48.020687Z",
     "shell.execute_reply": "2023-04-30T03:44:48.019806Z"
    },
    "papermill": {
     "duration": 0.019117,
     "end_time": "2023-04-30T03:44:48.022926",
     "exception": false,
     "start_time": "2023-04-30T03:44:48.003809",
     "status": "completed"
    },
    "tags": []
   },
   "outputs": [
    {
     "data": {
      "application/javascript": [
       "parent.postMessage({\"jupyterEvent\": \"custom.exercise_interaction\", \"data\": {\"outcomeType\": 1, \"valueTowardsCompletion\": 0.25, \"interactionType\": 1, \"questionType\": 1, \"questionId\": \"1_PointsDtype\", \"learnToolsVersion\": \"0.3.4\", \"failureMessage\": \"\", \"exceptionClass\": \"\", \"trace\": \"\"}}, \"*\")"
      ],
      "text/plain": [
       "<IPython.core.display.Javascript object>"
      ]
     },
     "metadata": {},
     "output_type": "display_data"
    },
    {
     "data": {
      "text/markdown": [
       "<span style=\"color:#33cc33\">Correct</span>"
      ],
      "text/plain": [
       "Correct"
      ]
     },
     "metadata": {},
     "output_type": "display_data"
    }
   ],
   "source": [
    "# Your code here\n",
    "dtype =reviews.points.dtype\n",
    "\n",
    "# Check your answer\n",
    "q1.check()"
   ]
  },
  {
   "cell_type": "code",
   "execution_count": 3,
   "id": "db222983",
   "metadata": {
    "execution": {
     "iopub.execute_input": "2023-04-30T03:44:48.035321Z",
     "iopub.status.busy": "2023-04-30T03:44:48.033974Z",
     "iopub.status.idle": "2023-04-30T03:44:48.039521Z",
     "shell.execute_reply": "2023-04-30T03:44:48.038628Z"
    },
    "papermill": {
     "duration": 0.014084,
     "end_time": "2023-04-30T03:44:48.041864",
     "exception": false,
     "start_time": "2023-04-30T03:44:48.027780",
     "status": "completed"
    },
    "tags": []
   },
   "outputs": [],
   "source": [
    "#q1.hint()\n",
    "#q1.solution()"
   ]
  },
  {
   "cell_type": "markdown",
   "id": "689dacd2",
   "metadata": {
    "papermill": {
     "duration": 0.00451,
     "end_time": "2023-04-30T03:44:48.051162",
     "exception": false,
     "start_time": "2023-04-30T03:44:48.046652",
     "status": "completed"
    },
    "tags": []
   },
   "source": [
    "## 2. \n",
    "Create a Series from entries in the `points` column, but convert the entries to strings. Hint: strings are `str` in native Python."
   ]
  },
  {
   "cell_type": "code",
   "execution_count": 4,
   "id": "03cad524",
   "metadata": {
    "execution": {
     "iopub.execute_input": "2023-04-30T03:44:48.063509Z",
     "iopub.status.busy": "2023-04-30T03:44:48.062341Z",
     "iopub.status.idle": "2023-04-30T03:44:48.148158Z",
     "shell.execute_reply": "2023-04-30T03:44:48.146869Z"
    },
    "papermill": {
     "duration": 0.094779,
     "end_time": "2023-04-30T03:44:48.150831",
     "exception": false,
     "start_time": "2023-04-30T03:44:48.056052",
     "status": "completed"
    },
    "tags": []
   },
   "outputs": [
    {
     "data": {
      "application/javascript": [
       "parent.postMessage({\"jupyterEvent\": \"custom.exercise_interaction\", \"data\": {\"outcomeType\": 1, \"valueTowardsCompletion\": 0.25, \"interactionType\": 1, \"questionType\": 1, \"questionId\": \"2_StrPoints\", \"learnToolsVersion\": \"0.3.4\", \"failureMessage\": \"\", \"exceptionClass\": \"\", \"trace\": \"\"}}, \"*\")"
      ],
      "text/plain": [
       "<IPython.core.display.Javascript object>"
      ]
     },
     "metadata": {},
     "output_type": "display_data"
    },
    {
     "data": {
      "text/markdown": [
       "<span style=\"color:#33cc33\">Correct</span>"
      ],
      "text/plain": [
       "Correct"
      ]
     },
     "metadata": {},
     "output_type": "display_data"
    }
   ],
   "source": [
    "point_strings = reviews.points.astype(str)\n",
    "\n",
    "# Check your answer\n",
    "q2.check()"
   ]
  },
  {
   "cell_type": "code",
   "execution_count": 5,
   "id": "68859b32",
   "metadata": {
    "execution": {
     "iopub.execute_input": "2023-04-30T03:44:48.163752Z",
     "iopub.status.busy": "2023-04-30T03:44:48.162510Z",
     "iopub.status.idle": "2023-04-30T03:44:48.167747Z",
     "shell.execute_reply": "2023-04-30T03:44:48.166732Z"
    },
    "papermill": {
     "duration": 0.014695,
     "end_time": "2023-04-30T03:44:48.170760",
     "exception": false,
     "start_time": "2023-04-30T03:44:48.156065",
     "status": "completed"
    },
    "tags": []
   },
   "outputs": [],
   "source": [
    "#q2.hint()\n",
    "#q2.solution()"
   ]
  },
  {
   "cell_type": "markdown",
   "id": "247cc77d",
   "metadata": {
    "papermill": {
     "duration": 0.004719,
     "end_time": "2023-04-30T03:44:48.180641",
     "exception": false,
     "start_time": "2023-04-30T03:44:48.175922",
     "status": "completed"
    },
    "tags": []
   },
   "source": [
    "## 3.\n",
    "Sometimes the price column is null. How many reviews in the dataset are missing a price?"
   ]
  },
  {
   "cell_type": "code",
   "execution_count": 6,
   "id": "7eb3b9ed",
   "metadata": {
    "execution": {
     "iopub.execute_input": "2023-04-30T03:44:48.192658Z",
     "iopub.status.busy": "2023-04-30T03:44:48.191854Z",
     "iopub.status.idle": "2023-04-30T03:44:48.201696Z",
     "shell.execute_reply": "2023-04-30T03:44:48.200433Z"
    },
    "papermill": {
     "duration": 0.018527,
     "end_time": "2023-04-30T03:44:48.204026",
     "exception": false,
     "start_time": "2023-04-30T03:44:48.185499",
     "status": "completed"
    },
    "tags": []
   },
   "outputs": [
    {
     "data": {
      "application/javascript": [
       "parent.postMessage({\"jupyterEvent\": \"custom.exercise_interaction\", \"data\": {\"outcomeType\": 1, \"valueTowardsCompletion\": 0.25, \"interactionType\": 1, \"questionType\": 1, \"questionId\": \"3_CountMissingPrices\", \"learnToolsVersion\": \"0.3.4\", \"failureMessage\": \"\", \"exceptionClass\": \"\", \"trace\": \"\"}}, \"*\")"
      ],
      "text/plain": [
       "<IPython.core.display.Javascript object>"
      ]
     },
     "metadata": {},
     "output_type": "display_data"
    },
    {
     "data": {
      "text/markdown": [
       "<span style=\"color:#33cc33\">Correct</span>"
      ],
      "text/plain": [
       "Correct"
      ]
     },
     "metadata": {},
     "output_type": "display_data"
    }
   ],
   "source": [
    "n_missing_prices = pd.isnull(reviews.price).sum()\n",
    "# Check your answer\n",
    "q3.check()"
   ]
  },
  {
   "cell_type": "code",
   "execution_count": 7,
   "id": "262afec2",
   "metadata": {
    "execution": {
     "iopub.execute_input": "2023-04-30T03:44:48.216539Z",
     "iopub.status.busy": "2023-04-30T03:44:48.216087Z",
     "iopub.status.idle": "2023-04-30T03:44:48.221093Z",
     "shell.execute_reply": "2023-04-30T03:44:48.219836Z"
    },
    "papermill": {
     "duration": 0.014239,
     "end_time": "2023-04-30T03:44:48.223688",
     "exception": false,
     "start_time": "2023-04-30T03:44:48.209449",
     "status": "completed"
    },
    "tags": []
   },
   "outputs": [],
   "source": [
    "#q3.hint()\n",
    "#q3.solution()"
   ]
  },
  {
   "cell_type": "markdown",
   "id": "195442a9",
   "metadata": {
    "papermill": {
     "duration": 0.004969,
     "end_time": "2023-04-30T03:44:48.234179",
     "exception": false,
     "start_time": "2023-04-30T03:44:48.229210",
     "status": "completed"
    },
    "tags": []
   },
   "source": [
    "## 4.\n",
    "What are the most common wine-producing regions? Create a Series counting the number of times each value occurs in the `region_1` field. This field is often missing data, so replace missing values with `Unknown`. Sort in descending order.  Your output should look something like this:\n",
    "\n",
    "```\n",
    "Unknown                    21247\n",
    "Napa Valley                 4480\n",
    "                           ...  \n",
    "Bardolino Superiore            1\n",
    "Primitivo del Tarantino        1\n",
    "Name: region_1, Length: 1230, dtype: int64\n",
    "```"
   ]
  },
  {
   "cell_type": "code",
   "execution_count": 8,
   "id": "0852c90c",
   "metadata": {
    "execution": {
     "iopub.execute_input": "2023-04-30T03:44:48.247639Z",
     "iopub.status.busy": "2023-04-30T03:44:48.246483Z",
     "iopub.status.idle": "2023-04-30T03:44:48.293303Z",
     "shell.execute_reply": "2023-04-30T03:44:48.292096Z"
    },
    "papermill": {
     "duration": 0.056503,
     "end_time": "2023-04-30T03:44:48.295944",
     "exception": false,
     "start_time": "2023-04-30T03:44:48.239441",
     "status": "completed"
    },
    "tags": []
   },
   "outputs": [
    {
     "data": {
      "application/javascript": [
       "parent.postMessage({\"jupyterEvent\": \"custom.exercise_interaction\", \"data\": {\"outcomeType\": 1, \"valueTowardsCompletion\": 0.25, \"interactionType\": 1, \"questionType\": 2, \"questionId\": \"4_ReviewsPerRegion\", \"learnToolsVersion\": \"0.3.4\", \"failureMessage\": \"\", \"exceptionClass\": \"\", \"trace\": \"\"}}, \"*\")"
      ],
      "text/plain": [
       "<IPython.core.display.Javascript object>"
      ]
     },
     "metadata": {},
     "output_type": "display_data"
    },
    {
     "data": {
      "text/markdown": [
       "<span style=\"color:#33cc33\">Correct</span>"
      ],
      "text/plain": [
       "Correct"
      ]
     },
     "metadata": {},
     "output_type": "display_data"
    }
   ],
   "source": [
    "reviews_per_region = reviews.region_1.fillna(\"Unkown\").value_counts().sort_values(ascending=False)\n",
    "# Check your answer\n",
    "q4.check()"
   ]
  },
  {
   "cell_type": "code",
   "execution_count": 9,
   "id": "106e5fd1",
   "metadata": {
    "execution": {
     "iopub.execute_input": "2023-04-30T03:44:48.310357Z",
     "iopub.status.busy": "2023-04-30T03:44:48.309181Z",
     "iopub.status.idle": "2023-04-30T03:44:48.314005Z",
     "shell.execute_reply": "2023-04-30T03:44:48.312802Z"
    },
    "papermill": {
     "duration": 0.014945,
     "end_time": "2023-04-30T03:44:48.316623",
     "exception": false,
     "start_time": "2023-04-30T03:44:48.301678",
     "status": "completed"
    },
    "tags": []
   },
   "outputs": [],
   "source": [
    "#q4.hint()\n",
    "#q4.solution()"
   ]
  },
  {
   "cell_type": "markdown",
   "id": "831b13f0",
   "metadata": {
    "papermill": {
     "duration": 0.005679,
     "end_time": "2023-04-30T03:44:48.327949",
     "exception": false,
     "start_time": "2023-04-30T03:44:48.322270",
     "status": "completed"
    },
    "tags": []
   },
   "source": [
    "# Keep going\n",
    "\n",
    "Move on to **[renaming and combining](https://www.kaggle.com/residentmario/renaming-and-combining)**."
   ]
  },
  {
   "cell_type": "markdown",
   "id": "0abdfc8e",
   "metadata": {
    "papermill": {
     "duration": 0.005363,
     "end_time": "2023-04-30T03:44:48.338945",
     "exception": false,
     "start_time": "2023-04-30T03:44:48.333582",
     "status": "completed"
    },
    "tags": []
   },
   "source": [
    "---\n",
    "\n",
    "\n",
    "\n",
    "\n",
    "*Have questions or comments? Visit the [course discussion forum](https://www.kaggle.com/learn/pandas/discussion) to chat with other learners.*"
   ]
  }
 ],
 "metadata": {
  "kernelspec": {
   "display_name": "Python 3",
   "language": "python",
   "name": "python3"
  },
  "language_info": {
   "codemirror_mode": {
    "name": "ipython",
    "version": 3
   },
   "file_extension": ".py",
   "mimetype": "text/x-python",
   "name": "python",
   "nbconvert_exporter": "python",
   "pygments_lexer": "ipython3",
   "version": "3.7.12"
  },
  "papermill": {
   "default_parameters": {},
   "duration": 14.164468,
   "end_time": "2023-04-30T03:44:49.068757",
   "environment_variables": {},
   "exception": null,
   "input_path": "__notebook__.ipynb",
   "output_path": "__notebook__.ipynb",
   "parameters": {},
   "start_time": "2023-04-30T03:44:34.904289",
   "version": "2.4.0"
  }
 },
 "nbformat": 4,
 "nbformat_minor": 5
}
