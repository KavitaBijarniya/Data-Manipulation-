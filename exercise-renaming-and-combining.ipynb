{
 "cells": [
  {
   "cell_type": "markdown",
   "id": "d045b134",
   "metadata": {
    "papermill": {
     "duration": 0.006344,
     "end_time": "2023-04-30T03:46:35.031925",
     "exception": false,
     "start_time": "2023-04-30T03:46:35.025581",
     "status": "completed"
    },
    "tags": []
   },
   "source": [
    "**This notebook is an exercise in the [Pandas](https://www.kaggle.com/learn/pandas) course.  You can reference the tutorial at [this link](https://www.kaggle.com/residentmario/renaming-and-combining).**\n",
    "\n",
    "---\n"
   ]
  },
  {
   "cell_type": "markdown",
   "id": "68b1576a",
   "metadata": {
    "papermill": {
     "duration": 0.004829,
     "end_time": "2023-04-30T03:46:35.042066",
     "exception": false,
     "start_time": "2023-04-30T03:46:35.037237",
     "status": "completed"
    },
    "tags": []
   },
   "source": [
    "# Introduction\n",
    "\n",
    "Run the following cell to load your data and some utility functions."
   ]
  },
  {
   "cell_type": "code",
   "execution_count": 1,
   "id": "b2ffda22",
   "metadata": {
    "execution": {
     "iopub.execute_input": "2023-04-30T03:46:35.055167Z",
     "iopub.status.busy": "2023-04-30T03:46:35.054215Z",
     "iopub.status.idle": "2023-04-30T03:46:38.909298Z",
     "shell.execute_reply": "2023-04-30T03:46:38.908452Z"
    },
    "papermill": {
     "duration": 3.865236,
     "end_time": "2023-04-30T03:46:38.912447",
     "exception": false,
     "start_time": "2023-04-30T03:46:35.047211",
     "status": "completed"
    },
    "tags": []
   },
   "outputs": [
    {
     "name": "stdout",
     "output_type": "stream",
     "text": [
      "Setup complete.\n"
     ]
    }
   ],
   "source": [
    "import pandas as pd\n",
    "\n",
    "reviews = pd.read_csv(\"../input/wine-reviews/winemag-data-130k-v2.csv\", index_col=0)\n",
    "\n",
    "from learntools.core import binder; binder.bind(globals())\n",
    "from learntools.pandas.renaming_and_combining import *\n",
    "print(\"Setup complete.\")"
   ]
  },
  {
   "cell_type": "markdown",
   "id": "cc34bce3",
   "metadata": {
    "papermill": {
     "duration": 0.005011,
     "end_time": "2023-04-30T03:46:38.922821",
     "exception": false,
     "start_time": "2023-04-30T03:46:38.917810",
     "status": "completed"
    },
    "tags": []
   },
   "source": [
    "# Exercises\n",
    "\n",
    "View the first several lines of your data by running the cell below:"
   ]
  },
  {
   "cell_type": "code",
   "execution_count": 2,
   "id": "3977cd52",
   "metadata": {
    "execution": {
     "iopub.execute_input": "2023-04-30T03:46:38.935454Z",
     "iopub.status.busy": "2023-04-30T03:46:38.934759Z",
     "iopub.status.idle": "2023-04-30T03:46:38.965260Z",
     "shell.execute_reply": "2023-04-30T03:46:38.964039Z"
    },
    "papermill": {
     "duration": 0.040287,
     "end_time": "2023-04-30T03:46:38.968137",
     "exception": false,
     "start_time": "2023-04-30T03:46:38.927850",
     "status": "completed"
    },
    "tags": []
   },
   "outputs": [
    {
     "data": {
      "text/html": [
       "<div>\n",
       "<style scoped>\n",
       "    .dataframe tbody tr th:only-of-type {\n",
       "        vertical-align: middle;\n",
       "    }\n",
       "\n",
       "    .dataframe tbody tr th {\n",
       "        vertical-align: top;\n",
       "    }\n",
       "\n",
       "    .dataframe thead th {\n",
       "        text-align: right;\n",
       "    }\n",
       "</style>\n",
       "<table border=\"1\" class=\"dataframe\">\n",
       "  <thead>\n",
       "    <tr style=\"text-align: right;\">\n",
       "      <th></th>\n",
       "      <th>country</th>\n",
       "      <th>description</th>\n",
       "      <th>designation</th>\n",
       "      <th>points</th>\n",
       "      <th>price</th>\n",
       "      <th>province</th>\n",
       "      <th>region_1</th>\n",
       "      <th>region_2</th>\n",
       "      <th>taster_name</th>\n",
       "      <th>taster_twitter_handle</th>\n",
       "      <th>title</th>\n",
       "      <th>variety</th>\n",
       "      <th>winery</th>\n",
       "    </tr>\n",
       "  </thead>\n",
       "  <tbody>\n",
       "    <tr>\n",
       "      <th>0</th>\n",
       "      <td>Italy</td>\n",
       "      <td>Aromas include tropical fruit, broom, brimston...</td>\n",
       "      <td>Vulkà Bianco</td>\n",
       "      <td>87</td>\n",
       "      <td>NaN</td>\n",
       "      <td>Sicily &amp; Sardinia</td>\n",
       "      <td>Etna</td>\n",
       "      <td>NaN</td>\n",
       "      <td>Kerin O’Keefe</td>\n",
       "      <td>@kerinokeefe</td>\n",
       "      <td>Nicosia 2013 Vulkà Bianco  (Etna)</td>\n",
       "      <td>White Blend</td>\n",
       "      <td>Nicosia</td>\n",
       "    </tr>\n",
       "    <tr>\n",
       "      <th>1</th>\n",
       "      <td>Portugal</td>\n",
       "      <td>This is ripe and fruity, a wine that is smooth...</td>\n",
       "      <td>Avidagos</td>\n",
       "      <td>87</td>\n",
       "      <td>15.0</td>\n",
       "      <td>Douro</td>\n",
       "      <td>NaN</td>\n",
       "      <td>NaN</td>\n",
       "      <td>Roger Voss</td>\n",
       "      <td>@vossroger</td>\n",
       "      <td>Quinta dos Avidagos 2011 Avidagos Red (Douro)</td>\n",
       "      <td>Portuguese Red</td>\n",
       "      <td>Quinta dos Avidagos</td>\n",
       "    </tr>\n",
       "    <tr>\n",
       "      <th>2</th>\n",
       "      <td>US</td>\n",
       "      <td>Tart and snappy, the flavors of lime flesh and...</td>\n",
       "      <td>NaN</td>\n",
       "      <td>87</td>\n",
       "      <td>14.0</td>\n",
       "      <td>Oregon</td>\n",
       "      <td>Willamette Valley</td>\n",
       "      <td>Willamette Valley</td>\n",
       "      <td>Paul Gregutt</td>\n",
       "      <td>@paulgwine</td>\n",
       "      <td>Rainstorm 2013 Pinot Gris (Willamette Valley)</td>\n",
       "      <td>Pinot Gris</td>\n",
       "      <td>Rainstorm</td>\n",
       "    </tr>\n",
       "    <tr>\n",
       "      <th>3</th>\n",
       "      <td>US</td>\n",
       "      <td>Pineapple rind, lemon pith and orange blossom ...</td>\n",
       "      <td>Reserve Late Harvest</td>\n",
       "      <td>87</td>\n",
       "      <td>13.0</td>\n",
       "      <td>Michigan</td>\n",
       "      <td>Lake Michigan Shore</td>\n",
       "      <td>NaN</td>\n",
       "      <td>Alexander Peartree</td>\n",
       "      <td>NaN</td>\n",
       "      <td>St. Julian 2013 Reserve Late Harvest Riesling ...</td>\n",
       "      <td>Riesling</td>\n",
       "      <td>St. Julian</td>\n",
       "    </tr>\n",
       "    <tr>\n",
       "      <th>4</th>\n",
       "      <td>US</td>\n",
       "      <td>Much like the regular bottling from 2012, this...</td>\n",
       "      <td>Vintner's Reserve Wild Child Block</td>\n",
       "      <td>87</td>\n",
       "      <td>65.0</td>\n",
       "      <td>Oregon</td>\n",
       "      <td>Willamette Valley</td>\n",
       "      <td>Willamette Valley</td>\n",
       "      <td>Paul Gregutt</td>\n",
       "      <td>@paulgwine</td>\n",
       "      <td>Sweet Cheeks 2012 Vintner's Reserve Wild Child...</td>\n",
       "      <td>Pinot Noir</td>\n",
       "      <td>Sweet Cheeks</td>\n",
       "    </tr>\n",
       "  </tbody>\n",
       "</table>\n",
       "</div>"
      ],
      "text/plain": [
       "    country                                        description  \\\n",
       "0     Italy  Aromas include tropical fruit, broom, brimston...   \n",
       "1  Portugal  This is ripe and fruity, a wine that is smooth...   \n",
       "2        US  Tart and snappy, the flavors of lime flesh and...   \n",
       "3        US  Pineapple rind, lemon pith and orange blossom ...   \n",
       "4        US  Much like the regular bottling from 2012, this...   \n",
       "\n",
       "                          designation  points  price           province  \\\n",
       "0                        Vulkà Bianco      87    NaN  Sicily & Sardinia   \n",
       "1                            Avidagos      87   15.0              Douro   \n",
       "2                                 NaN      87   14.0             Oregon   \n",
       "3                Reserve Late Harvest      87   13.0           Michigan   \n",
       "4  Vintner's Reserve Wild Child Block      87   65.0             Oregon   \n",
       "\n",
       "              region_1           region_2         taster_name  \\\n",
       "0                 Etna                NaN       Kerin O’Keefe   \n",
       "1                  NaN                NaN          Roger Voss   \n",
       "2    Willamette Valley  Willamette Valley        Paul Gregutt   \n",
       "3  Lake Michigan Shore                NaN  Alexander Peartree   \n",
       "4    Willamette Valley  Willamette Valley        Paul Gregutt   \n",
       "\n",
       "  taster_twitter_handle                                              title  \\\n",
       "0          @kerinokeefe                  Nicosia 2013 Vulkà Bianco  (Etna)   \n",
       "1            @vossroger      Quinta dos Avidagos 2011 Avidagos Red (Douro)   \n",
       "2           @paulgwine       Rainstorm 2013 Pinot Gris (Willamette Valley)   \n",
       "3                   NaN  St. Julian 2013 Reserve Late Harvest Riesling ...   \n",
       "4           @paulgwine   Sweet Cheeks 2012 Vintner's Reserve Wild Child...   \n",
       "\n",
       "          variety               winery  \n",
       "0     White Blend              Nicosia  \n",
       "1  Portuguese Red  Quinta dos Avidagos  \n",
       "2      Pinot Gris            Rainstorm  \n",
       "3        Riesling           St. Julian  \n",
       "4      Pinot Noir         Sweet Cheeks  "
      ]
     },
     "execution_count": 2,
     "metadata": {},
     "output_type": "execute_result"
    }
   ],
   "source": [
    "reviews.head()"
   ]
  },
  {
   "cell_type": "markdown",
   "id": "11087663",
   "metadata": {
    "papermill": {
     "duration": 0.005443,
     "end_time": "2023-04-30T03:46:38.979672",
     "exception": false,
     "start_time": "2023-04-30T03:46:38.974229",
     "status": "completed"
    },
    "tags": []
   },
   "source": [
    "## 1.\n",
    "`region_1` and `region_2` are pretty uninformative names for locale columns in the dataset. Create a copy of `reviews` with these columns renamed to `region` and `locale`, respectively."
   ]
  },
  {
   "cell_type": "code",
   "execution_count": 3,
   "id": "8db7aecf",
   "metadata": {
    "execution": {
     "iopub.execute_input": "2023-04-30T03:46:38.992745Z",
     "iopub.status.busy": "2023-04-30T03:46:38.992330Z",
     "iopub.status.idle": "2023-04-30T03:46:39.028484Z",
     "shell.execute_reply": "2023-04-30T03:46:39.027072Z"
    },
    "papermill": {
     "duration": 0.045817,
     "end_time": "2023-04-30T03:46:39.031032",
     "exception": false,
     "start_time": "2023-04-30T03:46:38.985215",
     "status": "completed"
    },
    "tags": []
   },
   "outputs": [
    {
     "data": {
      "application/javascript": [
       "parent.postMessage({\"jupyterEvent\": \"custom.exercise_interaction\", \"data\": {\"outcomeType\": 1, \"valueTowardsCompletion\": 0.25, \"interactionType\": 1, \"questionType\": 1, \"questionId\": \"1_RenameCols\", \"learnToolsVersion\": \"0.3.4\", \"failureMessage\": \"\", \"exceptionClass\": \"\", \"trace\": \"\"}}, \"*\")"
      ],
      "text/plain": [
       "<IPython.core.display.Javascript object>"
      ]
     },
     "metadata": {},
     "output_type": "display_data"
    },
    {
     "data": {
      "text/markdown": [
       "<span style=\"color:#33cc33\">Correct</span>"
      ],
      "text/plain": [
       "Correct"
      ]
     },
     "metadata": {},
     "output_type": "display_data"
    }
   ],
   "source": [
    "# Your code here\n",
    "renamed = reviews.rename(columns={'region_1':'region','region_2':'locale'})\n",
    "\n",
    "# Check your answer\n",
    "q1.check()"
   ]
  },
  {
   "cell_type": "code",
   "execution_count": 4,
   "id": "ac3aa059",
   "metadata": {
    "execution": {
     "iopub.execute_input": "2023-04-30T03:46:39.044592Z",
     "iopub.status.busy": "2023-04-30T03:46:39.043899Z",
     "iopub.status.idle": "2023-04-30T03:46:39.048698Z",
     "shell.execute_reply": "2023-04-30T03:46:39.047721Z"
    },
    "papermill": {
     "duration": 0.014203,
     "end_time": "2023-04-30T03:46:39.051125",
     "exception": false,
     "start_time": "2023-04-30T03:46:39.036922",
     "status": "completed"
    },
    "tags": []
   },
   "outputs": [],
   "source": [
    "#q1.hint()\n",
    "#q1.solution()"
   ]
  },
  {
   "cell_type": "markdown",
   "id": "ae933af7",
   "metadata": {
    "papermill": {
     "duration": 0.005464,
     "end_time": "2023-04-30T03:46:39.062342",
     "exception": false,
     "start_time": "2023-04-30T03:46:39.056878",
     "status": "completed"
    },
    "tags": []
   },
   "source": [
    "## 2.\n",
    "Set the index name in the dataset to `wines`."
   ]
  },
  {
   "cell_type": "code",
   "execution_count": 5,
   "id": "510cbead",
   "metadata": {
    "execution": {
     "iopub.execute_input": "2023-04-30T03:46:39.075672Z",
     "iopub.status.busy": "2023-04-30T03:46:39.075272Z",
     "iopub.status.idle": "2023-04-30T03:46:39.198130Z",
     "shell.execute_reply": "2023-04-30T03:46:39.197041Z"
    },
    "papermill": {
     "duration": 0.132553,
     "end_time": "2023-04-30T03:46:39.200560",
     "exception": false,
     "start_time": "2023-04-30T03:46:39.068007",
     "status": "completed"
    },
    "tags": []
   },
   "outputs": [
    {
     "data": {
      "application/javascript": [
       "parent.postMessage({\"jupyterEvent\": \"custom.exercise_interaction\", \"data\": {\"outcomeType\": 1, \"valueTowardsCompletion\": 0.25, \"interactionType\": 1, \"questionType\": 1, \"questionId\": \"2_RenameIndex\", \"learnToolsVersion\": \"0.3.4\", \"failureMessage\": \"\", \"exceptionClass\": \"\", \"trace\": \"\"}}, \"*\")"
      ],
      "text/plain": [
       "<IPython.core.display.Javascript object>"
      ]
     },
     "metadata": {},
     "output_type": "display_data"
    },
    {
     "data": {
      "text/markdown": [
       "<span style=\"color:#33cc33\">Correct</span>"
      ],
      "text/plain": [
       "Correct"
      ]
     },
     "metadata": {},
     "output_type": "display_data"
    }
   ],
   "source": [
    "reindexed = reviews.rename({'index':'wines'})\n",
    "\n",
    "# Check your answer\n",
    "q2.check()"
   ]
  },
  {
   "cell_type": "code",
   "execution_count": 6,
   "id": "104687df",
   "metadata": {
    "execution": {
     "iopub.execute_input": "2023-04-30T03:46:39.214704Z",
     "iopub.status.busy": "2023-04-30T03:46:39.214299Z",
     "iopub.status.idle": "2023-04-30T03:46:39.218495Z",
     "shell.execute_reply": "2023-04-30T03:46:39.217471Z"
    },
    "papermill": {
     "duration": 0.014232,
     "end_time": "2023-04-30T03:46:39.220874",
     "exception": false,
     "start_time": "2023-04-30T03:46:39.206642",
     "status": "completed"
    },
    "tags": []
   },
   "outputs": [],
   "source": [
    "#q2.hint()\n",
    "#q2.solution()"
   ]
  },
  {
   "cell_type": "markdown",
   "id": "912a6b37",
   "metadata": {
    "papermill": {
     "duration": 0.005684,
     "end_time": "2023-04-30T03:46:39.233717",
     "exception": false,
     "start_time": "2023-04-30T03:46:39.228033",
     "status": "completed"
    },
    "tags": []
   },
   "source": [
    "## 3.\n",
    "The [Things on Reddit](https://www.kaggle.com/residentmario/things-on-reddit/data) dataset includes product links from a selection of top-ranked forums (\"subreddits\") on reddit.com. Run the cell below to load a dataframe of products mentioned on the */r/gaming* subreddit and another dataframe for products mentioned on the *r//movies* subreddit."
   ]
  },
  {
   "cell_type": "code",
   "execution_count": 7,
   "id": "0fac47aa",
   "metadata": {
    "execution": {
     "iopub.execute_input": "2023-04-30T03:46:39.247777Z",
     "iopub.status.busy": "2023-04-30T03:46:39.247360Z",
     "iopub.status.idle": "2023-04-30T03:46:39.262227Z",
     "shell.execute_reply": "2023-04-30T03:46:39.261089Z"
    },
    "papermill": {
     "duration": 0.025018,
     "end_time": "2023-04-30T03:46:39.264815",
     "exception": false,
     "start_time": "2023-04-30T03:46:39.239797",
     "status": "completed"
    },
    "tags": []
   },
   "outputs": [],
   "source": [
    "gaming_products = pd.read_csv(\"../input/things-on-reddit/top-things/top-things/reddits/g/gaming.csv\")\n",
    "gaming_products['subreddit'] = \"r/gaming\"\n",
    "movie_products = pd.read_csv(\"../input/things-on-reddit/top-things/top-things/reddits/m/movies.csv\")\n",
    "movie_products['subreddit'] = \"r/movies\""
   ]
  },
  {
   "cell_type": "markdown",
   "id": "5c8af5e8",
   "metadata": {
    "papermill": {
     "duration": 0.00593,
     "end_time": "2023-04-30T03:46:39.277441",
     "exception": false,
     "start_time": "2023-04-30T03:46:39.271511",
     "status": "completed"
    },
    "tags": []
   },
   "source": [
    "Create a `DataFrame` of products mentioned on *either* subreddit."
   ]
  },
  {
   "cell_type": "code",
   "execution_count": 8,
   "id": "9459e733",
   "metadata": {
    "execution": {
     "iopub.execute_input": "2023-04-30T03:46:39.291136Z",
     "iopub.status.busy": "2023-04-30T03:46:39.290767Z",
     "iopub.status.idle": "2023-04-30T03:46:39.305759Z",
     "shell.execute_reply": "2023-04-30T03:46:39.304653Z"
    },
    "papermill": {
     "duration": 0.024534,
     "end_time": "2023-04-30T03:46:39.307957",
     "exception": false,
     "start_time": "2023-04-30T03:46:39.283423",
     "status": "completed"
    },
    "tags": []
   },
   "outputs": [
    {
     "data": {
      "application/javascript": [
       "parent.postMessage({\"jupyterEvent\": \"custom.exercise_interaction\", \"data\": {\"outcomeType\": 1, \"valueTowardsCompletion\": 0.25, \"interactionType\": 1, \"questionType\": 2, \"questionId\": \"3_ConcatReddit\", \"learnToolsVersion\": \"0.3.4\", \"failureMessage\": \"\", \"exceptionClass\": \"\", \"trace\": \"\"}}, \"*\")"
      ],
      "text/plain": [
       "<IPython.core.display.Javascript object>"
      ]
     },
     "metadata": {},
     "output_type": "display_data"
    },
    {
     "data": {
      "text/markdown": [
       "<span style=\"color:#33cc33\">Correct</span>"
      ],
      "text/plain": [
       "Correct"
      ]
     },
     "metadata": {},
     "output_type": "display_data"
    }
   ],
   "source": [
    "combined_products = pd.concat([gaming_products, movie_products])\n",
    "\n",
    "# Check your answer\n",
    "q3.check()"
   ]
  },
  {
   "cell_type": "code",
   "execution_count": 9,
   "id": "990820bd",
   "metadata": {
    "execution": {
     "iopub.execute_input": "2023-04-30T03:46:39.322051Z",
     "iopub.status.busy": "2023-04-30T03:46:39.321415Z",
     "iopub.status.idle": "2023-04-30T03:46:39.325965Z",
     "shell.execute_reply": "2023-04-30T03:46:39.324952Z"
    },
    "papermill": {
     "duration": 0.013927,
     "end_time": "2023-04-30T03:46:39.328083",
     "exception": false,
     "start_time": "2023-04-30T03:46:39.314156",
     "status": "completed"
    },
    "tags": []
   },
   "outputs": [],
   "source": [
    "#q3.hint()\n",
    "#q3.solution()"
   ]
  },
  {
   "cell_type": "markdown",
   "id": "2827e1b4",
   "metadata": {
    "papermill": {
     "duration": 0.005862,
     "end_time": "2023-04-30T03:46:39.340162",
     "exception": false,
     "start_time": "2023-04-30T03:46:39.334300",
     "status": "completed"
    },
    "tags": []
   },
   "source": [
    "## 4.\n",
    "The [Powerlifting Database](https://www.kaggle.com/open-powerlifting/powerlifting-database) dataset on Kaggle includes one CSV table for powerlifting meets and a separate one for powerlifting competitors. Run the cell below to load these datasets into dataframes:"
   ]
  },
  {
   "cell_type": "code",
   "execution_count": 10,
   "id": "e9a172f5",
   "metadata": {
    "execution": {
     "iopub.execute_input": "2023-04-30T03:46:39.354061Z",
     "iopub.status.busy": "2023-04-30T03:46:39.353315Z",
     "iopub.status.idle": "2023-04-30T03:46:40.047232Z",
     "shell.execute_reply": "2023-04-30T03:46:40.045754Z"
    },
    "papermill": {
     "duration": 0.704035,
     "end_time": "2023-04-30T03:46:40.050151",
     "exception": false,
     "start_time": "2023-04-30T03:46:39.346116",
     "status": "completed"
    },
    "tags": []
   },
   "outputs": [],
   "source": [
    "powerlifting_meets = pd.read_csv(\"../input/powerlifting-database/meets.csv\")\n",
    "powerlifting_competitors = pd.read_csv(\"../input/powerlifting-database/openpowerlifting.csv\")"
   ]
  },
  {
   "cell_type": "markdown",
   "id": "745d1b99",
   "metadata": {
    "papermill": {
     "duration": 0.006926,
     "end_time": "2023-04-30T03:46:40.063727",
     "exception": false,
     "start_time": "2023-04-30T03:46:40.056801",
     "status": "completed"
    },
    "tags": []
   },
   "source": [
    "Both tables include references to a `MeetID`, a unique key for each meet (competition) included in the database. Using this, generate a dataset combining the two tables into one."
   ]
  },
  {
   "cell_type": "code",
   "execution_count": 11,
   "id": "27766d7d",
   "metadata": {
    "execution": {
     "iopub.execute_input": "2023-04-30T03:46:40.078028Z",
     "iopub.status.busy": "2023-04-30T03:46:40.077564Z",
     "iopub.status.idle": "2023-04-30T03:46:41.065519Z",
     "shell.execute_reply": "2023-04-30T03:46:41.064427Z"
    },
    "papermill": {
     "duration": 0.998147,
     "end_time": "2023-04-30T03:46:41.068226",
     "exception": false,
     "start_time": "2023-04-30T03:46:40.070079",
     "status": "completed"
    },
    "tags": []
   },
   "outputs": [
    {
     "data": {
      "application/javascript": [
       "parent.postMessage({\"jupyterEvent\": \"custom.exercise_interaction\", \"data\": {\"outcomeType\": 1, \"valueTowardsCompletion\": 0.25, \"interactionType\": 1, \"questionType\": 2, \"questionId\": \"4_JoinLifting\", \"learnToolsVersion\": \"0.3.4\", \"failureMessage\": \"\", \"exceptionClass\": \"\", \"trace\": \"\"}}, \"*\")"
      ],
      "text/plain": [
       "<IPython.core.display.Javascript object>"
      ]
     },
     "metadata": {},
     "output_type": "display_data"
    },
    {
     "data": {
      "text/markdown": [
       "<span style=\"color:#33cc33\">Correct</span>"
      ],
      "text/plain": [
       "Correct"
      ]
     },
     "metadata": {},
     "output_type": "display_data"
    }
   ],
   "source": [
    "powerlifting_combined = powerlifting_meets.set_index(\"MeetID\").join(powerlifting_competitors.set_index(\"MeetID\"))\n",
    "\n",
    "# Check your answer\n",
    "q4.check()"
   ]
  },
  {
   "cell_type": "code",
   "execution_count": 12,
   "id": "b4772748",
   "metadata": {
    "execution": {
     "iopub.execute_input": "2023-04-30T03:46:41.083342Z",
     "iopub.status.busy": "2023-04-30T03:46:41.082978Z",
     "iopub.status.idle": "2023-04-30T03:46:41.087100Z",
     "shell.execute_reply": "2023-04-30T03:46:41.085979Z"
    },
    "papermill": {
     "duration": 0.014626,
     "end_time": "2023-04-30T03:46:41.089471",
     "exception": false,
     "start_time": "2023-04-30T03:46:41.074845",
     "status": "completed"
    },
    "tags": []
   },
   "outputs": [],
   "source": [
    "#q4.hint()\n",
    "#q4.solution()"
   ]
  },
  {
   "cell_type": "markdown",
   "id": "4639c18f",
   "metadata": {
    "papermill": {
     "duration": 0.006253,
     "end_time": "2023-04-30T03:46:41.102432",
     "exception": false,
     "start_time": "2023-04-30T03:46:41.096179",
     "status": "completed"
    },
    "tags": []
   },
   "source": [
    "# Congratulations!\n",
    "\n",
    "You've finished the Pandas micro-course.  Many data scientists feel efficiency with Pandas is the most useful and practical skill they have, because it allows you to progress quickly in any project you have.\n",
    "\n",
    "If you'd like to apply your new skills to examining geospatial data, you're encouraged to check out our **[Geospatial Analysis](https://www.kaggle.com/learn/geospatial-analysis)** micro-course.\n",
    "\n",
    "You can also take advantage of your Pandas skills by entering a **[Kaggle Competition](https://www.kaggle.com/competitions)** or by answering a question you find interesting using **[Kaggle Datasets](https://www.kaggle.com/datasets)**."
   ]
  },
  {
   "cell_type": "markdown",
   "id": "71fdd964",
   "metadata": {
    "papermill": {
     "duration": 0.006055,
     "end_time": "2023-04-30T03:46:41.115122",
     "exception": false,
     "start_time": "2023-04-30T03:46:41.109067",
     "status": "completed"
    },
    "tags": []
   },
   "source": [
    "---\n",
    "\n",
    "\n",
    "\n",
    "\n",
    "*Have questions or comments? Visit the [course discussion forum](https://www.kaggle.com/learn/pandas/discussion) to chat with other learners.*"
   ]
  }
 ],
 "metadata": {
  "kernelspec": {
   "display_name": "Python 3",
   "language": "python",
   "name": "python3"
  },
  "language_info": {
   "codemirror_mode": {
    "name": "ipython",
    "version": 3
   },
   "file_extension": ".py",
   "mimetype": "text/x-python",
   "name": "python",
   "nbconvert_exporter": "python",
   "pygments_lexer": "ipython3",
   "version": "3.7.12"
  },
  "papermill": {
   "default_parameters": {},
   "duration": 16.642336,
   "end_time": "2023-04-30T03:46:41.945163",
   "environment_variables": {},
   "exception": null,
   "input_path": "__notebook__.ipynb",
   "output_path": "__notebook__.ipynb",
   "parameters": {},
   "start_time": "2023-04-30T03:46:25.302827",
   "version": "2.4.0"
  }
 },
 "nbformat": 4,
 "nbformat_minor": 5
}
