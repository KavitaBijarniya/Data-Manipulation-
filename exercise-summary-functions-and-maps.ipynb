{
 "cells": [
  {
   "cell_type": "markdown",
   "id": "f0b4762b",
   "metadata": {
    "papermill": {
     "duration": 0.007304,
     "end_time": "2023-04-30T03:41:52.096841",
     "exception": false,
     "start_time": "2023-04-30T03:41:52.089537",
     "status": "completed"
    },
    "tags": []
   },
   "source": [
    "**This notebook is an exercise in the [Pandas](https://www.kaggle.com/learn/pandas) course.  You can reference the tutorial at [this link](https://www.kaggle.com/residentmario/summary-functions-and-maps).**\n",
    "\n",
    "---\n"
   ]
  },
  {
   "cell_type": "markdown",
   "id": "841d1539",
   "metadata": {
    "papermill": {
     "duration": 0.005616,
     "end_time": "2023-04-30T03:41:52.108596",
     "exception": false,
     "start_time": "2023-04-30T03:41:52.102980",
     "status": "completed"
    },
    "tags": []
   },
   "source": [
    "# Introduction\n",
    "\n",
    "Now you are ready to get a deeper understanding of your data.\n",
    "\n",
    "Run the following cell to load your data and some utility functions (including code to check your answers)."
   ]
  },
  {
   "cell_type": "code",
   "execution_count": 1,
   "id": "e9841da2",
   "metadata": {
    "execution": {
     "iopub.execute_input": "2023-04-30T03:41:52.123322Z",
     "iopub.status.busy": "2023-04-30T03:41:52.122219Z",
     "iopub.status.idle": "2023-04-30T03:41:58.987814Z",
     "shell.execute_reply": "2023-04-30T03:41:58.986380Z"
    },
    "papermill": {
     "duration": 6.87565,
     "end_time": "2023-04-30T03:41:58.990239",
     "exception": false,
     "start_time": "2023-04-30T03:41:52.114589",
     "status": "completed"
    },
    "tags": []
   },
   "outputs": [
    {
     "name": "stdout",
     "output_type": "stream",
     "text": [
      "Setup complete.\n"
     ]
    },
    {
     "data": {
      "text/html": [
       "<div>\n",
       "<style scoped>\n",
       "    .dataframe tbody tr th:only-of-type {\n",
       "        vertical-align: middle;\n",
       "    }\n",
       "\n",
       "    .dataframe tbody tr th {\n",
       "        vertical-align: top;\n",
       "    }\n",
       "\n",
       "    .dataframe thead th {\n",
       "        text-align: right;\n",
       "    }\n",
       "</style>\n",
       "<table border=\"1\" class=\"dataframe\">\n",
       "  <thead>\n",
       "    <tr style=\"text-align: right;\">\n",
       "      <th></th>\n",
       "      <th>country</th>\n",
       "      <th>description</th>\n",
       "      <th>designation</th>\n",
       "      <th>points</th>\n",
       "      <th>price</th>\n",
       "      <th>province</th>\n",
       "      <th>region_1</th>\n",
       "      <th>region_2</th>\n",
       "      <th>taster_name</th>\n",
       "      <th>taster_twitter_handle</th>\n",
       "      <th>title</th>\n",
       "      <th>variety</th>\n",
       "      <th>winery</th>\n",
       "    </tr>\n",
       "  </thead>\n",
       "  <tbody>\n",
       "    <tr>\n",
       "      <th>0</th>\n",
       "      <td>Italy</td>\n",
       "      <td>Aromas include tropical fruit, broom, brimston...</td>\n",
       "      <td>Vulkà Bianco</td>\n",
       "      <td>87</td>\n",
       "      <td>NaN</td>\n",
       "      <td>Sicily &amp; Sardinia</td>\n",
       "      <td>Etna</td>\n",
       "      <td>NaN</td>\n",
       "      <td>Kerin O’Keefe</td>\n",
       "      <td>@kerinokeefe</td>\n",
       "      <td>Nicosia 2013 Vulkà Bianco  (Etna)</td>\n",
       "      <td>White Blend</td>\n",
       "      <td>Nicosia</td>\n",
       "    </tr>\n",
       "    <tr>\n",
       "      <th>1</th>\n",
       "      <td>Portugal</td>\n",
       "      <td>This is ripe and fruity, a wine that is smooth...</td>\n",
       "      <td>Avidagos</td>\n",
       "      <td>87</td>\n",
       "      <td>15.0</td>\n",
       "      <td>Douro</td>\n",
       "      <td>NaN</td>\n",
       "      <td>NaN</td>\n",
       "      <td>Roger Voss</td>\n",
       "      <td>@vossroger</td>\n",
       "      <td>Quinta dos Avidagos 2011 Avidagos Red (Douro)</td>\n",
       "      <td>Portuguese Red</td>\n",
       "      <td>Quinta dos Avidagos</td>\n",
       "    </tr>\n",
       "    <tr>\n",
       "      <th>2</th>\n",
       "      <td>US</td>\n",
       "      <td>Tart and snappy, the flavors of lime flesh and...</td>\n",
       "      <td>NaN</td>\n",
       "      <td>87</td>\n",
       "      <td>14.0</td>\n",
       "      <td>Oregon</td>\n",
       "      <td>Willamette Valley</td>\n",
       "      <td>Willamette Valley</td>\n",
       "      <td>Paul Gregutt</td>\n",
       "      <td>@paulgwine</td>\n",
       "      <td>Rainstorm 2013 Pinot Gris (Willamette Valley)</td>\n",
       "      <td>Pinot Gris</td>\n",
       "      <td>Rainstorm</td>\n",
       "    </tr>\n",
       "    <tr>\n",
       "      <th>3</th>\n",
       "      <td>US</td>\n",
       "      <td>Pineapple rind, lemon pith and orange blossom ...</td>\n",
       "      <td>Reserve Late Harvest</td>\n",
       "      <td>87</td>\n",
       "      <td>13.0</td>\n",
       "      <td>Michigan</td>\n",
       "      <td>Lake Michigan Shore</td>\n",
       "      <td>NaN</td>\n",
       "      <td>Alexander Peartree</td>\n",
       "      <td>NaN</td>\n",
       "      <td>St. Julian 2013 Reserve Late Harvest Riesling ...</td>\n",
       "      <td>Riesling</td>\n",
       "      <td>St. Julian</td>\n",
       "    </tr>\n",
       "    <tr>\n",
       "      <th>4</th>\n",
       "      <td>US</td>\n",
       "      <td>Much like the regular bottling from 2012, this...</td>\n",
       "      <td>Vintner's Reserve Wild Child Block</td>\n",
       "      <td>87</td>\n",
       "      <td>65.0</td>\n",
       "      <td>Oregon</td>\n",
       "      <td>Willamette Valley</td>\n",
       "      <td>Willamette Valley</td>\n",
       "      <td>Paul Gregutt</td>\n",
       "      <td>@paulgwine</td>\n",
       "      <td>Sweet Cheeks 2012 Vintner's Reserve Wild Child...</td>\n",
       "      <td>Pinot Noir</td>\n",
       "      <td>Sweet Cheeks</td>\n",
       "    </tr>\n",
       "  </tbody>\n",
       "</table>\n",
       "</div>"
      ],
      "text/plain": [
       "    country                                        description  \\\n",
       "0     Italy  Aromas include tropical fruit, broom, brimston...   \n",
       "1  Portugal  This is ripe and fruity, a wine that is smooth...   \n",
       "2        US  Tart and snappy, the flavors of lime flesh and...   \n",
       "3        US  Pineapple rind, lemon pith and orange blossom ...   \n",
       "4        US  Much like the regular bottling from 2012, this...   \n",
       "\n",
       "                          designation  points  price           province  \\\n",
       "0                        Vulkà Bianco      87    NaN  Sicily & Sardinia   \n",
       "1                            Avidagos      87   15.0              Douro   \n",
       "2                                 NaN      87   14.0             Oregon   \n",
       "3                Reserve Late Harvest      87   13.0           Michigan   \n",
       "4  Vintner's Reserve Wild Child Block      87   65.0             Oregon   \n",
       "\n",
       "              region_1           region_2         taster_name  \\\n",
       "0                 Etna                NaN       Kerin O’Keefe   \n",
       "1                  NaN                NaN          Roger Voss   \n",
       "2    Willamette Valley  Willamette Valley        Paul Gregutt   \n",
       "3  Lake Michigan Shore                NaN  Alexander Peartree   \n",
       "4    Willamette Valley  Willamette Valley        Paul Gregutt   \n",
       "\n",
       "  taster_twitter_handle                                              title  \\\n",
       "0          @kerinokeefe                  Nicosia 2013 Vulkà Bianco  (Etna)   \n",
       "1            @vossroger      Quinta dos Avidagos 2011 Avidagos Red (Douro)   \n",
       "2           @paulgwine       Rainstorm 2013 Pinot Gris (Willamette Valley)   \n",
       "3                   NaN  St. Julian 2013 Reserve Late Harvest Riesling ...   \n",
       "4           @paulgwine   Sweet Cheeks 2012 Vintner's Reserve Wild Child...   \n",
       "\n",
       "          variety               winery  \n",
       "0     White Blend              Nicosia  \n",
       "1  Portuguese Red  Quinta dos Avidagos  \n",
       "2      Pinot Gris            Rainstorm  \n",
       "3        Riesling           St. Julian  \n",
       "4      Pinot Noir         Sweet Cheeks  "
      ]
     },
     "execution_count": 1,
     "metadata": {},
     "output_type": "execute_result"
    }
   ],
   "source": [
    "import pandas as pd\n",
    "pd.set_option(\"display.max_rows\", 5)\n",
    "reviews = pd.read_csv(\"../input/wine-reviews/winemag-data-130k-v2.csv\", index_col=0)\n",
    "\n",
    "from learntools.core import binder; binder.bind(globals())\n",
    "from learntools.pandas.summary_functions_and_maps import *\n",
    "print(\"Setup complete.\")\n",
    "\n",
    "reviews.head()"
   ]
  },
  {
   "cell_type": "markdown",
   "id": "31138d52",
   "metadata": {
    "papermill": {
     "duration": 0.006191,
     "end_time": "2023-04-30T03:41:59.003001",
     "exception": false,
     "start_time": "2023-04-30T03:41:58.996810",
     "status": "completed"
    },
    "tags": []
   },
   "source": [
    "# Exercises"
   ]
  },
  {
   "cell_type": "markdown",
   "id": "996bb6d1",
   "metadata": {
    "papermill": {
     "duration": 0.006004,
     "end_time": "2023-04-30T03:41:59.015291",
     "exception": false,
     "start_time": "2023-04-30T03:41:59.009287",
     "status": "completed"
    },
    "tags": []
   },
   "source": [
    "## 1.\n",
    "\n",
    "What is the median of the `points` column in the `reviews` DataFrame?"
   ]
  },
  {
   "cell_type": "code",
   "execution_count": 2,
   "id": "bc369228",
   "metadata": {
    "execution": {
     "iopub.execute_input": "2023-04-30T03:41:59.029851Z",
     "iopub.status.busy": "2023-04-30T03:41:59.029460Z",
     "iopub.status.idle": "2023-04-30T03:41:59.041504Z",
     "shell.execute_reply": "2023-04-30T03:41:59.040297Z"
    },
    "papermill": {
     "duration": 0.022061,
     "end_time": "2023-04-30T03:41:59.043622",
     "exception": false,
     "start_time": "2023-04-30T03:41:59.021561",
     "status": "completed"
    },
    "tags": []
   },
   "outputs": [
    {
     "data": {
      "application/javascript": [
       "parent.postMessage({\"jupyterEvent\": \"custom.exercise_interaction\", \"data\": {\"outcomeType\": 1, \"valueTowardsCompletion\": 0.14285714285714285, \"interactionType\": 1, \"questionType\": 1, \"questionId\": \"1_MedianPoints\", \"learnToolsVersion\": \"0.3.4\", \"failureMessage\": \"\", \"exceptionClass\": \"\", \"trace\": \"\"}}, \"*\")"
      ],
      "text/plain": [
       "<IPython.core.display.Javascript object>"
      ]
     },
     "metadata": {},
     "output_type": "display_data"
    },
    {
     "data": {
      "text/markdown": [
       "<span style=\"color:#33cc33\">Correct</span>"
      ],
      "text/plain": [
       "Correct"
      ]
     },
     "metadata": {},
     "output_type": "display_data"
    }
   ],
   "source": [
    "median_points =reviews.points.median()\n",
    "\n",
    "# Check your answer\n",
    "q1.check()"
   ]
  },
  {
   "cell_type": "code",
   "execution_count": 3,
   "id": "e257278a",
   "metadata": {
    "execution": {
     "iopub.execute_input": "2023-04-30T03:41:59.058996Z",
     "iopub.status.busy": "2023-04-30T03:41:59.058576Z",
     "iopub.status.idle": "2023-04-30T03:41:59.063012Z",
     "shell.execute_reply": "2023-04-30T03:41:59.061787Z"
    },
    "papermill": {
     "duration": 0.014863,
     "end_time": "2023-04-30T03:41:59.065205",
     "exception": false,
     "start_time": "2023-04-30T03:41:59.050342",
     "status": "completed"
    },
    "tags": []
   },
   "outputs": [],
   "source": [
    "#q1.hint()\n",
    "#q1.solution()"
   ]
  },
  {
   "cell_type": "markdown",
   "id": "ba21be60",
   "metadata": {
    "papermill": {
     "duration": 0.006371,
     "end_time": "2023-04-30T03:41:59.078317",
     "exception": false,
     "start_time": "2023-04-30T03:41:59.071946",
     "status": "completed"
    },
    "tags": []
   },
   "source": [
    "## 2. \n",
    "What countries are represented in the dataset? (Your answer should not include any duplicates.)"
   ]
  },
  {
   "cell_type": "code",
   "execution_count": 4,
   "id": "b991e75b",
   "metadata": {
    "execution": {
     "iopub.execute_input": "2023-04-30T03:41:59.094118Z",
     "iopub.status.busy": "2023-04-30T03:41:59.093116Z",
     "iopub.status.idle": "2023-04-30T03:41:59.112563Z",
     "shell.execute_reply": "2023-04-30T03:41:59.111067Z"
    },
    "papermill": {
     "duration": 0.030096,
     "end_time": "2023-04-30T03:41:59.115031",
     "exception": false,
     "start_time": "2023-04-30T03:41:59.084935",
     "status": "completed"
    },
    "tags": []
   },
   "outputs": [
    {
     "data": {
      "application/javascript": [
       "parent.postMessage({\"jupyterEvent\": \"custom.exercise_interaction\", \"data\": {\"outcomeType\": 1, \"valueTowardsCompletion\": 0.14285714285714285, \"interactionType\": 1, \"questionType\": 2, \"questionId\": \"2_UniqueCountries\", \"learnToolsVersion\": \"0.3.4\", \"failureMessage\": \"\", \"exceptionClass\": \"\", \"trace\": \"\"}}, \"*\")"
      ],
      "text/plain": [
       "<IPython.core.display.Javascript object>"
      ]
     },
     "metadata": {},
     "output_type": "display_data"
    },
    {
     "data": {
      "text/markdown": [
       "<span style=\"color:#33cc33\">Correct</span>"
      ],
      "text/plain": [
       "Correct"
      ]
     },
     "metadata": {},
     "output_type": "display_data"
    }
   ],
   "source": [
    "countries = reviews.country.unique()\n",
    "\n",
    "# Check your answer\n",
    "q2.check()"
   ]
  },
  {
   "cell_type": "code",
   "execution_count": 5,
   "id": "d797eb03",
   "metadata": {
    "execution": {
     "iopub.execute_input": "2023-04-30T03:41:59.131334Z",
     "iopub.status.busy": "2023-04-30T03:41:59.130884Z",
     "iopub.status.idle": "2023-04-30T03:41:59.135638Z",
     "shell.execute_reply": "2023-04-30T03:41:59.134318Z"
    },
    "papermill": {
     "duration": 0.01579,
     "end_time": "2023-04-30T03:41:59.137856",
     "exception": false,
     "start_time": "2023-04-30T03:41:59.122066",
     "status": "completed"
    },
    "tags": []
   },
   "outputs": [],
   "source": [
    "#q2.hint()\n",
    "#q2.solution()"
   ]
  },
  {
   "cell_type": "markdown",
   "id": "76ed6e8e",
   "metadata": {
    "papermill": {
     "duration": 0.006564,
     "end_time": "2023-04-30T03:41:59.151394",
     "exception": false,
     "start_time": "2023-04-30T03:41:59.144830",
     "status": "completed"
    },
    "tags": []
   },
   "source": [
    "## 3.\n",
    "How often does each country appear in the dataset? Create a Series `reviews_per_country` mapping countries to the count of reviews of wines from that country."
   ]
  },
  {
   "cell_type": "code",
   "execution_count": 6,
   "id": "ac4b45bd",
   "metadata": {
    "execution": {
     "iopub.execute_input": "2023-04-30T03:41:59.168126Z",
     "iopub.status.busy": "2023-04-30T03:41:59.167689Z",
     "iopub.status.idle": "2023-04-30T03:41:59.187905Z",
     "shell.execute_reply": "2023-04-30T03:41:59.186483Z"
    },
    "papermill": {
     "duration": 0.031092,
     "end_time": "2023-04-30T03:41:59.190308",
     "exception": false,
     "start_time": "2023-04-30T03:41:59.159216",
     "status": "completed"
    },
    "tags": []
   },
   "outputs": [
    {
     "data": {
      "application/javascript": [
       "parent.postMessage({\"jupyterEvent\": \"custom.exercise_interaction\", \"data\": {\"outcomeType\": 1, \"valueTowardsCompletion\": 0.14285714285714285, \"interactionType\": 1, \"questionType\": 1, \"questionId\": \"3_ReviewsPerCountry\", \"learnToolsVersion\": \"0.3.4\", \"failureMessage\": \"\", \"exceptionClass\": \"\", \"trace\": \"\"}}, \"*\")"
      ],
      "text/plain": [
       "<IPython.core.display.Javascript object>"
      ]
     },
     "metadata": {},
     "output_type": "display_data"
    },
    {
     "data": {
      "text/markdown": [
       "<span style=\"color:#33cc33\">Correct</span>"
      ],
      "text/plain": [
       "Correct"
      ]
     },
     "metadata": {},
     "output_type": "display_data"
    }
   ],
   "source": [
    "reviews_per_country = reviews.country.value_counts()\n",
    "\n",
    "# Check your answer\n",
    "q3.check()"
   ]
  },
  {
   "cell_type": "code",
   "execution_count": 7,
   "id": "e66e1d79",
   "metadata": {
    "execution": {
     "iopub.execute_input": "2023-04-30T03:41:59.206428Z",
     "iopub.status.busy": "2023-04-30T03:41:59.205730Z",
     "iopub.status.idle": "2023-04-30T03:41:59.210671Z",
     "shell.execute_reply": "2023-04-30T03:41:59.209528Z"
    },
    "papermill": {
     "duration": 0.015625,
     "end_time": "2023-04-30T03:41:59.212974",
     "exception": false,
     "start_time": "2023-04-30T03:41:59.197349",
     "status": "completed"
    },
    "tags": []
   },
   "outputs": [],
   "source": [
    "#q3.hint()\n",
    "#q3.solution()"
   ]
  },
  {
   "cell_type": "markdown",
   "id": "90eaf4cb",
   "metadata": {
    "papermill": {
     "duration": 0.006735,
     "end_time": "2023-04-30T03:41:59.226847",
     "exception": false,
     "start_time": "2023-04-30T03:41:59.220112",
     "status": "completed"
    },
    "tags": []
   },
   "source": [
    "## 4.\n",
    "Create variable `centered_price` containing a version of the `price` column with the mean price subtracted.\n",
    "\n",
    "(Note: this 'centering' transformation is a common preprocessing step before applying various machine learning algorithms.) "
   ]
  },
  {
   "cell_type": "code",
   "execution_count": 8,
   "id": "2c8b77cc",
   "metadata": {
    "execution": {
     "iopub.execute_input": "2023-04-30T03:41:59.242987Z",
     "iopub.status.busy": "2023-04-30T03:41:59.242496Z",
     "iopub.status.idle": "2023-04-30T03:41:59.255353Z",
     "shell.execute_reply": "2023-04-30T03:41:59.254399Z"
    },
    "papermill": {
     "duration": 0.023728,
     "end_time": "2023-04-30T03:41:59.257528",
     "exception": false,
     "start_time": "2023-04-30T03:41:59.233800",
     "status": "completed"
    },
    "tags": []
   },
   "outputs": [
    {
     "data": {
      "application/javascript": [
       "parent.postMessage({\"jupyterEvent\": \"custom.exercise_interaction\", \"data\": {\"outcomeType\": 1, \"valueTowardsCompletion\": 0.14285714285714285, \"interactionType\": 1, \"questionType\": 1, \"questionId\": \"4_CenteredPrice\", \"learnToolsVersion\": \"0.3.4\", \"failureMessage\": \"\", \"exceptionClass\": \"\", \"trace\": \"\"}}, \"*\")"
      ],
      "text/plain": [
       "<IPython.core.display.Javascript object>"
      ]
     },
     "metadata": {},
     "output_type": "display_data"
    },
    {
     "data": {
      "text/markdown": [
       "<span style=\"color:#33cc33\">Correct</span>"
      ],
      "text/plain": [
       "Correct"
      ]
     },
     "metadata": {},
     "output_type": "display_data"
    }
   ],
   "source": [
    "centered_price = reviews.price - reviews.price.mean()\n",
    "\n",
    "# Check your answer\n",
    "q4.check()"
   ]
  },
  {
   "cell_type": "code",
   "execution_count": 9,
   "id": "3fa3e8a9",
   "metadata": {
    "execution": {
     "iopub.execute_input": "2023-04-30T03:41:59.275071Z",
     "iopub.status.busy": "2023-04-30T03:41:59.274222Z",
     "iopub.status.idle": "2023-04-30T03:41:59.279614Z",
     "shell.execute_reply": "2023-04-30T03:41:59.278497Z"
    },
    "papermill": {
     "duration": 0.016807,
     "end_time": "2023-04-30T03:41:59.282012",
     "exception": false,
     "start_time": "2023-04-30T03:41:59.265205",
     "status": "completed"
    },
    "tags": []
   },
   "outputs": [],
   "source": [
    "#q4.hint()\n",
    "#q4.solution()"
   ]
  },
  {
   "cell_type": "markdown",
   "id": "f53fc303",
   "metadata": {
    "papermill": {
     "duration": 0.007095,
     "end_time": "2023-04-30T03:41:59.296951",
     "exception": false,
     "start_time": "2023-04-30T03:41:59.289856",
     "status": "completed"
    },
    "tags": []
   },
   "source": [
    "## 5.\n",
    "I'm an economical wine buyer. Which wine is the \"best bargain\"? Create a variable `bargain_wine` with the title of the wine with the highest points-to-price ratio in the dataset."
   ]
  },
  {
   "cell_type": "code",
   "execution_count": 10,
   "id": "df2fe0e2",
   "metadata": {
    "execution": {
     "iopub.execute_input": "2023-04-30T03:41:59.313733Z",
     "iopub.status.busy": "2023-04-30T03:41:59.313309Z",
     "iopub.status.idle": "2023-04-30T03:41:59.327795Z",
     "shell.execute_reply": "2023-04-30T03:41:59.326521Z"
    },
    "papermill": {
     "duration": 0.02583,
     "end_time": "2023-04-30T03:41:59.330236",
     "exception": false,
     "start_time": "2023-04-30T03:41:59.304406",
     "status": "completed"
    },
    "tags": []
   },
   "outputs": [
    {
     "data": {
      "application/javascript": [
       "parent.postMessage({\"jupyterEvent\": \"custom.exercise_interaction\", \"data\": {\"outcomeType\": 1, \"valueTowardsCompletion\": 0.14285714285714285, \"interactionType\": 1, \"questionType\": 2, \"questionId\": \"5_BargainWine\", \"learnToolsVersion\": \"0.3.4\", \"failureMessage\": \"\", \"exceptionClass\": \"\", \"trace\": \"\"}}, \"*\")"
      ],
      "text/plain": [
       "<IPython.core.display.Javascript object>"
      ]
     },
     "metadata": {},
     "output_type": "display_data"
    },
    {
     "data": {
      "text/markdown": [
       "<span style=\"color:#33cc33\">Correct</span>"
      ],
      "text/plain": [
       "Correct"
      ]
     },
     "metadata": {},
     "output_type": "display_data"
    }
   ],
   "source": [
    "bargain_idx = (reviews.points / reviews.price).idxmax()\n",
    "bargain_wine = reviews.loc[bargain_idx, 'title']\n",
    "\n",
    "# Check your answer\n",
    "q5.check()"
   ]
  },
  {
   "cell_type": "code",
   "execution_count": 11,
   "id": "f69f31eb",
   "metadata": {
    "execution": {
     "iopub.execute_input": "2023-04-30T03:41:59.347186Z",
     "iopub.status.busy": "2023-04-30T03:41:59.346744Z",
     "iopub.status.idle": "2023-04-30T03:41:59.351621Z",
     "shell.execute_reply": "2023-04-30T03:41:59.350406Z"
    },
    "papermill": {
     "duration": 0.016438,
     "end_time": "2023-04-30T03:41:59.354225",
     "exception": false,
     "start_time": "2023-04-30T03:41:59.337787",
     "status": "completed"
    },
    "tags": []
   },
   "outputs": [],
   "source": [
    "#q5.hint()\n",
    "#q5.solution()"
   ]
  },
  {
   "cell_type": "markdown",
   "id": "c3a3bcc5",
   "metadata": {
    "papermill": {
     "duration": 0.007899,
     "end_time": "2023-04-30T03:41:59.370171",
     "exception": false,
     "start_time": "2023-04-30T03:41:59.362272",
     "status": "completed"
    },
    "tags": []
   },
   "source": [
    "## 6.\n",
    "There are only so many words you can use when describing a bottle of wine. Is a wine more likely to be \"tropical\" or \"fruity\"? Create a Series `descriptor_counts` counting how many times each of these two words appears in the `description` column in the dataset. (For simplicity, let's ignore the capitalized versions of these words.)"
   ]
  },
  {
   "cell_type": "code",
   "execution_count": 12,
   "id": "27ba3d7b",
   "metadata": {
    "execution": {
     "iopub.execute_input": "2023-04-30T03:41:59.387618Z",
     "iopub.status.busy": "2023-04-30T03:41:59.387195Z",
     "iopub.status.idle": "2023-04-30T03:41:59.533356Z",
     "shell.execute_reply": "2023-04-30T03:41:59.532160Z"
    },
    "papermill": {
     "duration": 0.158045,
     "end_time": "2023-04-30T03:41:59.536086",
     "exception": false,
     "start_time": "2023-04-30T03:41:59.378041",
     "status": "completed"
    },
    "tags": []
   },
   "outputs": [
    {
     "data": {
      "application/javascript": [
       "parent.postMessage({\"jupyterEvent\": \"custom.exercise_interaction\", \"data\": {\"outcomeType\": 1, \"valueTowardsCompletion\": 0.14285714285714285, \"interactionType\": 1, \"questionType\": 1, \"questionId\": \"6_DescriptorCounts\", \"learnToolsVersion\": \"0.3.4\", \"failureMessage\": \"\", \"exceptionClass\": \"\", \"trace\": \"\"}}, \"*\")"
      ],
      "text/plain": [
       "<IPython.core.display.Javascript object>"
      ]
     },
     "metadata": {},
     "output_type": "display_data"
    },
    {
     "data": {
      "text/markdown": [
       "<span style=\"color:#33cc33\">Correct</span>"
      ],
      "text/plain": [
       "Correct"
      ]
     },
     "metadata": {},
     "output_type": "display_data"
    }
   ],
   "source": [
    "n_trop = reviews.description.map(lambda desc: \"tropical\" in desc).sum()\n",
    "n_fruity = reviews.description.map(lambda desc: \"fruity\" in desc).sum()\n",
    "descriptor_counts = pd.Series([n_trop, n_fruity], index=['tropical', 'fruity'])\n",
    "\n",
    "# Check your answer\n",
    "q6.check()"
   ]
  },
  {
   "cell_type": "code",
   "execution_count": 13,
   "id": "a7bbf59e",
   "metadata": {
    "execution": {
     "iopub.execute_input": "2023-04-30T03:41:59.554803Z",
     "iopub.status.busy": "2023-04-30T03:41:59.554402Z",
     "iopub.status.idle": "2023-04-30T03:41:59.559028Z",
     "shell.execute_reply": "2023-04-30T03:41:59.557769Z"
    },
    "papermill": {
     "duration": 0.016993,
     "end_time": "2023-04-30T03:41:59.561417",
     "exception": false,
     "start_time": "2023-04-30T03:41:59.544424",
     "status": "completed"
    },
    "tags": []
   },
   "outputs": [],
   "source": [
    "#q6.hint()\n",
    "#q6.solution()"
   ]
  },
  {
   "cell_type": "markdown",
   "id": "630f444e",
   "metadata": {
    "papermill": {
     "duration": 0.00758,
     "end_time": "2023-04-30T03:41:59.577432",
     "exception": false,
     "start_time": "2023-04-30T03:41:59.569852",
     "status": "completed"
    },
    "tags": []
   },
   "source": [
    "## 7.\n",
    "We'd like to host these wine reviews on our website, but a rating system ranging from 80 to 100 points is too hard to understand - we'd like to translate them into simple star ratings. A score of 95 or higher counts as 3 stars, a score of at least 85 but less than 95 is 2 stars. Any other score is 1 star.\n",
    "\n",
    "Also, the Canadian Vintners Association bought a lot of ads on the site, so any wines from Canada should automatically get 3 stars, regardless of points.\n",
    "\n",
    "Create a series `star_ratings` with the number of stars corresponding to each review in the dataset."
   ]
  },
  {
   "cell_type": "code",
   "execution_count": 14,
   "id": "2198c5b2",
   "metadata": {
    "execution": {
     "iopub.execute_input": "2023-04-30T03:41:59.595125Z",
     "iopub.status.busy": "2023-04-30T03:41:59.594736Z",
     "iopub.status.idle": "2023-04-30T03:42:03.602230Z",
     "shell.execute_reply": "2023-04-30T03:42:03.600958Z"
    },
    "papermill": {
     "duration": 4.019209,
     "end_time": "2023-04-30T03:42:03.604582",
     "exception": false,
     "start_time": "2023-04-30T03:41:59.585373",
     "status": "completed"
    },
    "tags": []
   },
   "outputs": [
    {
     "data": {
      "application/javascript": [
       "parent.postMessage({\"jupyterEvent\": \"custom.exercise_interaction\", \"data\": {\"outcomeType\": 1, \"valueTowardsCompletion\": 0.14285714285714285, \"interactionType\": 1, \"questionType\": 1, \"questionId\": \"7_StarRatings\", \"learnToolsVersion\": \"0.3.4\", \"failureMessage\": \"\", \"exceptionClass\": \"\", \"trace\": \"\"}}, \"*\")"
      ],
      "text/plain": [
       "<IPython.core.display.Javascript object>"
      ]
     },
     "metadata": {},
     "output_type": "display_data"
    },
    {
     "data": {
      "text/markdown": [
       "<span style=\"color:#33cc33\">Correct</span>"
      ],
      "text/plain": [
       "Correct"
      ]
     },
     "metadata": {},
     "output_type": "display_data"
    }
   ],
   "source": [
    "def stars(row):\n",
    "    if row.country == 'Canada':\n",
    "        return 3\n",
    "    elif row.points >= 95:\n",
    "        return 3\n",
    "    elif row.points >= 85:\n",
    "        return 2\n",
    "    else:\n",
    "        return 1\n",
    "\n",
    "star_ratings = reviews.apply(stars, axis='columns')\n",
    "\n",
    "# Check your answer\n",
    "q7.check()"
   ]
  },
  {
   "cell_type": "code",
   "execution_count": 15,
   "id": "3fdf6b30",
   "metadata": {
    "execution": {
     "iopub.execute_input": "2023-04-30T03:42:03.623268Z",
     "iopub.status.busy": "2023-04-30T03:42:03.622174Z",
     "iopub.status.idle": "2023-04-30T03:42:03.626949Z",
     "shell.execute_reply": "2023-04-30T03:42:03.625600Z"
    },
    "papermill": {
     "duration": 0.016778,
     "end_time": "2023-04-30T03:42:03.629435",
     "exception": false,
     "start_time": "2023-04-30T03:42:03.612657",
     "status": "completed"
    },
    "tags": []
   },
   "outputs": [],
   "source": [
    "#q7.hint()\n",
    "#q7.solution()"
   ]
  },
  {
   "cell_type": "markdown",
   "id": "81080505",
   "metadata": {
    "papermill": {
     "duration": 0.007911,
     "end_time": "2023-04-30T03:42:03.645344",
     "exception": false,
     "start_time": "2023-04-30T03:42:03.637433",
     "status": "completed"
    },
    "tags": []
   },
   "source": [
    "# Keep going\n",
    "Continue to **[grouping and sorting](https://www.kaggle.com/residentmario/grouping-and-sorting)**."
   ]
  },
  {
   "cell_type": "markdown",
   "id": "ef8d3192",
   "metadata": {
    "papermill": {
     "duration": 0.007812,
     "end_time": "2023-04-30T03:42:03.661295",
     "exception": false,
     "start_time": "2023-04-30T03:42:03.653483",
     "status": "completed"
    },
    "tags": []
   },
   "source": [
    "---\n",
    "\n",
    "\n",
    "\n",
    "\n",
    "*Have questions or comments? Visit the [course discussion forum](https://www.kaggle.com/learn/pandas/discussion) to chat with other learners.*"
   ]
  }
 ],
 "metadata": {
  "kernelspec": {
   "display_name": "Python 3",
   "language": "python",
   "name": "python3"
  },
  "language_info": {
   "codemirror_mode": {
    "name": "ipython",
    "version": 3
   },
   "file_extension": ".py",
   "mimetype": "text/x-python",
   "name": "python",
   "nbconvert_exporter": "python",
   "pygments_lexer": "ipython3",
   "version": "3.7.12"
  },
  "papermill": {
   "default_parameters": {},
   "duration": 22.366178,
   "end_time": "2023-04-30T03:42:04.391926",
   "environment_variables": {},
   "exception": null,
   "input_path": "__notebook__.ipynb",
   "output_path": "__notebook__.ipynb",
   "parameters": {},
   "start_time": "2023-04-30T03:41:42.025748",
   "version": "2.4.0"
  }
 },
 "nbformat": 4,
 "nbformat_minor": 5
}
