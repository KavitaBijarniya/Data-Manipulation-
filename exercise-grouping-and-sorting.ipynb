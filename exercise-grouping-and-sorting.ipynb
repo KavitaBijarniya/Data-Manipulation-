{
 "cells": [
  {
   "cell_type": "markdown",
   "id": "1df6646b",
   "metadata": {
    "papermill": {
     "duration": 0.00749,
     "end_time": "2023-04-30T03:43:15.994913",
     "exception": false,
     "start_time": "2023-04-30T03:43:15.987423",
     "status": "completed"
    },
    "tags": []
   },
   "source": [
    "**This notebook is an exercise in the [Pandas](https://www.kaggle.com/learn/pandas) course.  You can reference the tutorial at [this link](https://www.kaggle.com/residentmario/grouping-and-sorting).**\n",
    "\n",
    "---\n"
   ]
  },
  {
   "cell_type": "markdown",
   "id": "4c0ee430",
   "metadata": {
    "papermill": {
     "duration": 0.005495,
     "end_time": "2023-04-30T03:43:16.006509",
     "exception": false,
     "start_time": "2023-04-30T03:43:16.001014",
     "status": "completed"
    },
    "tags": []
   },
   "source": [
    "# Introduction\n",
    "\n",
    "In these exercises we'll apply groupwise analysis to our dataset.\n",
    "\n",
    "Run the code cell below to load the data before running the exercises."
   ]
  },
  {
   "cell_type": "code",
   "execution_count": 1,
   "id": "a1d9a55b",
   "metadata": {
    "execution": {
     "iopub.execute_input": "2023-04-30T03:43:16.019833Z",
     "iopub.status.busy": "2023-04-30T03:43:16.019416Z",
     "iopub.status.idle": "2023-04-30T03:43:18.875439Z",
     "shell.execute_reply": "2023-04-30T03:43:18.874118Z"
    },
    "papermill": {
     "duration": 2.865866,
     "end_time": "2023-04-30T03:43:18.878208",
     "exception": false,
     "start_time": "2023-04-30T03:43:16.012342",
     "status": "completed"
    },
    "tags": []
   },
   "outputs": [
    {
     "name": "stdout",
     "output_type": "stream",
     "text": [
      "Setup complete.\n"
     ]
    }
   ],
   "source": [
    "import pandas as pd\n",
    "\n",
    "reviews = pd.read_csv(\"../input/wine-reviews/winemag-data-130k-v2.csv\", index_col=0)\n",
    "#pd.set_option(\"display.max_rows\", 5)\n",
    "\n",
    "from learntools.core import binder; binder.bind(globals())\n",
    "from learntools.pandas.grouping_and_sorting import *\n",
    "print(\"Setup complete.\")"
   ]
  },
  {
   "cell_type": "markdown",
   "id": "522688f1",
   "metadata": {
    "papermill": {
     "duration": 0.005774,
     "end_time": "2023-04-30T03:43:18.890386",
     "exception": false,
     "start_time": "2023-04-30T03:43:18.884612",
     "status": "completed"
    },
    "tags": []
   },
   "source": [
    "# Exercises"
   ]
  },
  {
   "cell_type": "markdown",
   "id": "addad044",
   "metadata": {
    "papermill": {
     "duration": 0.005812,
     "end_time": "2023-04-30T03:43:18.902208",
     "exception": false,
     "start_time": "2023-04-30T03:43:18.896396",
     "status": "completed"
    },
    "tags": []
   },
   "source": [
    "## 1.\n",
    "Who are the most common wine reviewers in the dataset? Create a `Series` whose index is the `taster_twitter_handle` category from the dataset, and whose values count how many reviews each person wrote."
   ]
  },
  {
   "cell_type": "code",
   "execution_count": 2,
   "id": "84ca998b",
   "metadata": {
    "execution": {
     "iopub.execute_input": "2023-04-30T03:43:18.916685Z",
     "iopub.status.busy": "2023-04-30T03:43:18.916282Z",
     "iopub.status.idle": "2023-04-30T03:43:18.940119Z",
     "shell.execute_reply": "2023-04-30T03:43:18.938712Z"
    },
    "papermill": {
     "duration": 0.034266,
     "end_time": "2023-04-30T03:43:18.942857",
     "exception": false,
     "start_time": "2023-04-30T03:43:18.908591",
     "status": "completed"
    },
    "tags": []
   },
   "outputs": [
    {
     "data": {
      "application/javascript": [
       "parent.postMessage({\"jupyterEvent\": \"custom.exercise_interaction\", \"data\": {\"outcomeType\": 1, \"valueTowardsCompletion\": 0.16666666666666666, \"interactionType\": 1, \"questionType\": 1, \"questionId\": \"1_ReviewsWritten\", \"learnToolsVersion\": \"0.3.4\", \"failureMessage\": \"\", \"exceptionClass\": \"\", \"trace\": \"\"}}, \"*\")"
      ],
      "text/plain": [
       "<IPython.core.display.Javascript object>"
      ]
     },
     "metadata": {},
     "output_type": "display_data"
    },
    {
     "data": {
      "text/markdown": [
       "<span style=\"color:#33cc33\">Correct:</span> \n",
       "\n",
       "\n",
       "```python\n",
       "reviews_written = reviews.groupby('taster_twitter_handle').size()\n",
       "```\n",
       "or\n",
       "```python\n",
       "reviews_written = reviews.groupby('taster_twitter_handle').taster_twitter_handle.count()\n",
       "```\n"
      ],
      "text/plain": [
       "Correct: \n",
       "\n",
       "\n",
       "```python\n",
       "reviews_written = reviews.groupby('taster_twitter_handle').size()\n",
       "```\n",
       "or\n",
       "```python\n",
       "reviews_written = reviews.groupby('taster_twitter_handle').taster_twitter_handle.count()\n",
       "```"
      ]
     },
     "metadata": {},
     "output_type": "display_data"
    }
   ],
   "source": [
    "# Your code here\n",
    "reviews_written = reviews_written = reviews.groupby('taster_twitter_handle').size()\n",
    "\n",
    "# Check your answer\n",
    "q1.check()"
   ]
  },
  {
   "cell_type": "code",
   "execution_count": 3,
   "id": "6b45a1b5",
   "metadata": {
    "execution": {
     "iopub.execute_input": "2023-04-30T03:43:18.957197Z",
     "iopub.status.busy": "2023-04-30T03:43:18.956416Z",
     "iopub.status.idle": "2023-04-30T03:43:18.961319Z",
     "shell.execute_reply": "2023-04-30T03:43:18.960212Z"
    },
    "papermill": {
     "duration": 0.01453,
     "end_time": "2023-04-30T03:43:18.963637",
     "exception": false,
     "start_time": "2023-04-30T03:43:18.949107",
     "status": "completed"
    },
    "tags": []
   },
   "outputs": [],
   "source": [
    "#q1.hint()\n",
    "#q1.solution()"
   ]
  },
  {
   "cell_type": "markdown",
   "id": "47b1a0a4",
   "metadata": {
    "papermill": {
     "duration": 0.006,
     "end_time": "2023-04-30T03:43:18.975874",
     "exception": false,
     "start_time": "2023-04-30T03:43:18.969874",
     "status": "completed"
    },
    "tags": []
   },
   "source": [
    "## 2.\n",
    "What is the best wine I can buy for a given amount of money? Create a `Series` whose index is wine prices and whose values is the maximum number of points a wine costing that much was given in a review. Sort the values by price, ascending (so that `4.0` dollars is at the top and `3300.0` dollars is at the bottom)."
   ]
  },
  {
   "cell_type": "code",
   "execution_count": 4,
   "id": "98e92815",
   "metadata": {
    "execution": {
     "iopub.execute_input": "2023-04-30T03:43:18.990404Z",
     "iopub.status.busy": "2023-04-30T03:43:18.989634Z",
     "iopub.status.idle": "2023-04-30T03:43:19.003231Z",
     "shell.execute_reply": "2023-04-30T03:43:19.002069Z"
    },
    "papermill": {
     "duration": 0.023617,
     "end_time": "2023-04-30T03:43:19.005710",
     "exception": false,
     "start_time": "2023-04-30T03:43:18.982093",
     "status": "completed"
    },
    "tags": []
   },
   "outputs": [
    {
     "data": {
      "application/javascript": [
       "parent.postMessage({\"jupyterEvent\": \"custom.exercise_interaction\", \"data\": {\"outcomeType\": 1, \"valueTowardsCompletion\": 0.16666666666666666, \"interactionType\": 1, \"questionType\": 1, \"questionId\": \"2_BestRatingPerPrice\", \"learnToolsVersion\": \"0.3.4\", \"failureMessage\": \"\", \"exceptionClass\": \"\", \"trace\": \"\"}}, \"*\")"
      ],
      "text/plain": [
       "<IPython.core.display.Javascript object>"
      ]
     },
     "metadata": {},
     "output_type": "display_data"
    },
    {
     "data": {
      "text/markdown": [
       "<span style=\"color:#33cc33\">Correct</span>"
      ],
      "text/plain": [
       "Correct"
      ]
     },
     "metadata": {},
     "output_type": "display_data"
    }
   ],
   "source": [
    "best_rating_per_price = reviews.groupby('price')['points'].max().sort_index()\n",
    "\n",
    "# Check your answer\n",
    "q2.check()"
   ]
  },
  {
   "cell_type": "code",
   "execution_count": 5,
   "id": "04380b84",
   "metadata": {
    "execution": {
     "iopub.execute_input": "2023-04-30T03:43:19.020594Z",
     "iopub.status.busy": "2023-04-30T03:43:19.020194Z",
     "iopub.status.idle": "2023-04-30T03:43:19.024808Z",
     "shell.execute_reply": "2023-04-30T03:43:19.023692Z"
    },
    "papermill": {
     "duration": 0.014945,
     "end_time": "2023-04-30T03:43:19.027239",
     "exception": false,
     "start_time": "2023-04-30T03:43:19.012294",
     "status": "completed"
    },
    "tags": []
   },
   "outputs": [],
   "source": [
    "#q2.hint()\n",
    "#q2.solution()"
   ]
  },
  {
   "cell_type": "markdown",
   "id": "cc2529cb",
   "metadata": {
    "papermill": {
     "duration": 0.006084,
     "end_time": "2023-04-30T03:43:19.039698",
     "exception": false,
     "start_time": "2023-04-30T03:43:19.033614",
     "status": "completed"
    },
    "tags": []
   },
   "source": [
    "## 3.\n",
    "What are the minimum and maximum prices for each `variety` of wine? Create a `DataFrame` whose index is the `variety` category from the dataset and whose values are the `min` and `max` values thereof."
   ]
  },
  {
   "cell_type": "code",
   "execution_count": 6,
   "id": "75523e86",
   "metadata": {
    "execution": {
     "iopub.execute_input": "2023-04-30T03:43:19.055182Z",
     "iopub.status.busy": "2023-04-30T03:43:19.054765Z",
     "iopub.status.idle": "2023-04-30T03:43:19.079473Z",
     "shell.execute_reply": "2023-04-30T03:43:19.078565Z"
    },
    "papermill": {
     "duration": 0.03457,
     "end_time": "2023-04-30T03:43:19.081596",
     "exception": false,
     "start_time": "2023-04-30T03:43:19.047026",
     "status": "completed"
    },
    "tags": []
   },
   "outputs": [
    {
     "data": {
      "application/javascript": [
       "parent.postMessage({\"jupyterEvent\": \"custom.exercise_interaction\", \"data\": {\"outcomeType\": 1, \"valueTowardsCompletion\": 0.16666666666666666, \"interactionType\": 1, \"questionType\": 1, \"questionId\": \"3_PriceExtremes\", \"learnToolsVersion\": \"0.3.4\", \"failureMessage\": \"\", \"exceptionClass\": \"\", \"trace\": \"\"}}, \"*\")"
      ],
      "text/plain": [
       "<IPython.core.display.Javascript object>"
      ]
     },
     "metadata": {},
     "output_type": "display_data"
    },
    {
     "data": {
      "text/markdown": [
       "<span style=\"color:#33cc33\">Correct</span>"
      ],
      "text/plain": [
       "Correct"
      ]
     },
     "metadata": {},
     "output_type": "display_data"
    }
   ],
   "source": [
    "price_extremes = reviews.groupby(['variety']).price.agg([min,max])\n",
    "\n",
    "# Check your answer\n",
    "q3.check()"
   ]
  },
  {
   "cell_type": "code",
   "execution_count": 7,
   "id": "49e6bf33",
   "metadata": {
    "execution": {
     "iopub.execute_input": "2023-04-30T03:43:19.098036Z",
     "iopub.status.busy": "2023-04-30T03:43:19.096697Z",
     "iopub.status.idle": "2023-04-30T03:43:19.102393Z",
     "shell.execute_reply": "2023-04-30T03:43:19.101094Z"
    },
    "papermill": {
     "duration": 0.016233,
     "end_time": "2023-04-30T03:43:19.104779",
     "exception": false,
     "start_time": "2023-04-30T03:43:19.088546",
     "status": "completed"
    },
    "tags": []
   },
   "outputs": [],
   "source": [
    "#q3.hint()\n",
    "#q3.solution()"
   ]
  },
  {
   "cell_type": "markdown",
   "id": "a666e92a",
   "metadata": {
    "papermill": {
     "duration": 0.006381,
     "end_time": "2023-04-30T03:43:19.118013",
     "exception": false,
     "start_time": "2023-04-30T03:43:19.111632",
     "status": "completed"
    },
    "tags": []
   },
   "source": [
    "## 4.\n",
    "What are the most expensive wine varieties? Create a variable `sorted_varieties` containing a copy of the dataframe from the previous question where varieties are sorted in descending order based on minimum price, then on maximum price (to break ties)."
   ]
  },
  {
   "cell_type": "code",
   "execution_count": 8,
   "id": "58c105ee",
   "metadata": {
    "execution": {
     "iopub.execute_input": "2023-04-30T03:43:19.133496Z",
     "iopub.status.busy": "2023-04-30T03:43:19.133041Z",
     "iopub.status.idle": "2023-04-30T03:43:19.145875Z",
     "shell.execute_reply": "2023-04-30T03:43:19.144668Z"
    },
    "papermill": {
     "duration": 0.023692,
     "end_time": "2023-04-30T03:43:19.148419",
     "exception": false,
     "start_time": "2023-04-30T03:43:19.124727",
     "status": "completed"
    },
    "tags": []
   },
   "outputs": [
    {
     "data": {
      "application/javascript": [
       "parent.postMessage({\"jupyterEvent\": \"custom.exercise_interaction\", \"data\": {\"outcomeType\": 1, \"valueTowardsCompletion\": 0.16666666666666666, \"interactionType\": 1, \"questionType\": 1, \"questionId\": \"4_SortedVarieties\", \"learnToolsVersion\": \"0.3.4\", \"failureMessage\": \"\", \"exceptionClass\": \"\", \"trace\": \"\"}}, \"*\")"
      ],
      "text/plain": [
       "<IPython.core.display.Javascript object>"
      ]
     },
     "metadata": {},
     "output_type": "display_data"
    },
    {
     "data": {
      "text/markdown": [
       "<span style=\"color:#33cc33\">Correct</span>"
      ],
      "text/plain": [
       "Correct"
      ]
     },
     "metadata": {},
     "output_type": "display_data"
    }
   ],
   "source": [
    "sorted_varieties = price_extremes.sort_values(by=['min', 'max'], ascending=False)\n",
    "\n",
    "# Check your answer\n",
    "q4.check()"
   ]
  },
  {
   "cell_type": "code",
   "execution_count": 9,
   "id": "92be6bb6",
   "metadata": {
    "execution": {
     "iopub.execute_input": "2023-04-30T03:43:19.164222Z",
     "iopub.status.busy": "2023-04-30T03:43:19.163774Z",
     "iopub.status.idle": "2023-04-30T03:43:19.168360Z",
     "shell.execute_reply": "2023-04-30T03:43:19.167221Z"
    },
    "papermill": {
     "duration": 0.015141,
     "end_time": "2023-04-30T03:43:19.170575",
     "exception": false,
     "start_time": "2023-04-30T03:43:19.155434",
     "status": "completed"
    },
    "tags": []
   },
   "outputs": [],
   "source": [
    "#q4.hint()\n",
    "#q4.solution()"
   ]
  },
  {
   "cell_type": "markdown",
   "id": "a13cf578",
   "metadata": {
    "papermill": {
     "duration": 0.006541,
     "end_time": "2023-04-30T03:43:19.183938",
     "exception": false,
     "start_time": "2023-04-30T03:43:19.177397",
     "status": "completed"
    },
    "tags": []
   },
   "source": [
    "## 5.\n",
    "Create a `Series` whose index is reviewers and whose values is the average review score given out by that reviewer. Hint: you will need the `taster_name` and `points` columns."
   ]
  },
  {
   "cell_type": "code",
   "execution_count": 10,
   "id": "0473aa14",
   "metadata": {
    "execution": {
     "iopub.execute_input": "2023-04-30T03:43:19.199525Z",
     "iopub.status.busy": "2023-04-30T03:43:19.199119Z",
     "iopub.status.idle": "2023-04-30T03:43:19.220593Z",
     "shell.execute_reply": "2023-04-30T03:43:19.219472Z"
    },
    "papermill": {
     "duration": 0.031883,
     "end_time": "2023-04-30T03:43:19.222737",
     "exception": false,
     "start_time": "2023-04-30T03:43:19.190854",
     "status": "completed"
    },
    "tags": []
   },
   "outputs": [
    {
     "data": {
      "application/javascript": [
       "parent.postMessage({\"jupyterEvent\": \"custom.exercise_interaction\", \"data\": {\"outcomeType\": 1, \"valueTowardsCompletion\": 0.16666666666666666, \"interactionType\": 1, \"questionType\": 1, \"questionId\": \"5_ReviewerMeanRatings\", \"learnToolsVersion\": \"0.3.4\", \"failureMessage\": \"\", \"exceptionClass\": \"\", \"trace\": \"\"}}, \"*\")"
      ],
      "text/plain": [
       "<IPython.core.display.Javascript object>"
      ]
     },
     "metadata": {},
     "output_type": "display_data"
    },
    {
     "data": {
      "text/markdown": [
       "<span style=\"color:#33cc33\">Correct</span>"
      ],
      "text/plain": [
       "Correct"
      ]
     },
     "metadata": {},
     "output_type": "display_data"
    }
   ],
   "source": [
    "reviewer_mean_ratings = reviews.groupby('taster_name').points.mean()\n",
    "\n",
    "\n",
    "\n",
    "# Check your answer\n",
    "q5.check()"
   ]
  },
  {
   "cell_type": "code",
   "execution_count": 11,
   "id": "43a58703",
   "metadata": {
    "execution": {
     "iopub.execute_input": "2023-04-30T03:43:19.238706Z",
     "iopub.status.busy": "2023-04-30T03:43:19.238296Z",
     "iopub.status.idle": "2023-04-30T03:43:19.242800Z",
     "shell.execute_reply": "2023-04-30T03:43:19.241675Z"
    },
    "papermill": {
     "duration": 0.01524,
     "end_time": "2023-04-30T03:43:19.245115",
     "exception": false,
     "start_time": "2023-04-30T03:43:19.229875",
     "status": "completed"
    },
    "tags": []
   },
   "outputs": [],
   "source": [
    "#q5.hint()\n",
    "#q5.solution()"
   ]
  },
  {
   "cell_type": "markdown",
   "id": "643fea75",
   "metadata": {
    "papermill": {
     "duration": 0.006764,
     "end_time": "2023-04-30T03:43:19.259163",
     "exception": false,
     "start_time": "2023-04-30T03:43:19.252399",
     "status": "completed"
    },
    "tags": []
   },
   "source": [
    "Are there significant differences in the average scores assigned by the various reviewers? Run the cell below to use the `describe()` method to see a summary of the range of values."
   ]
  },
  {
   "cell_type": "code",
   "execution_count": 12,
   "id": "f624a65d",
   "metadata": {
    "execution": {
     "iopub.execute_input": "2023-04-30T03:43:19.275242Z",
     "iopub.status.busy": "2023-04-30T03:43:19.274773Z",
     "iopub.status.idle": "2023-04-30T03:43:19.285800Z",
     "shell.execute_reply": "2023-04-30T03:43:19.284815Z"
    },
    "papermill": {
     "duration": 0.02172,
     "end_time": "2023-04-30T03:43:19.287973",
     "exception": false,
     "start_time": "2023-04-30T03:43:19.266253",
     "status": "completed"
    },
    "tags": []
   },
   "outputs": [
    {
     "data": {
      "text/plain": [
       "count    19.000000\n",
       "mean     88.233026\n",
       "std       1.243610\n",
       "min      85.855422\n",
       "25%      87.323501\n",
       "50%      88.536235\n",
       "75%      88.975256\n",
       "max      90.562551\n",
       "Name: points, dtype: float64"
      ]
     },
     "execution_count": 12,
     "metadata": {},
     "output_type": "execute_result"
    }
   ],
   "source": [
    "reviewer_mean_ratings.describe()"
   ]
  },
  {
   "cell_type": "markdown",
   "id": "3cac8590",
   "metadata": {
    "papermill": {
     "duration": 0.00696,
     "end_time": "2023-04-30T03:43:19.302354",
     "exception": false,
     "start_time": "2023-04-30T03:43:19.295394",
     "status": "completed"
    },
    "tags": []
   },
   "source": [
    "## 6.\n",
    "What combination of countries and varieties are most common? Create a `Series` whose index is a `MultiIndex`of `{country, variety}` pairs. For example, a pinot noir produced in the US should map to `{\"US\", \"Pinot Noir\"}`. Sort the values in the `Series` in descending order based on wine count."
   ]
  },
  {
   "cell_type": "code",
   "execution_count": 13,
   "id": "29c1074d",
   "metadata": {
    "execution": {
     "iopub.execute_input": "2023-04-30T03:43:19.318765Z",
     "iopub.status.busy": "2023-04-30T03:43:19.318335Z",
     "iopub.status.idle": "2023-04-30T03:43:19.354647Z",
     "shell.execute_reply": "2023-04-30T03:43:19.353464Z"
    },
    "papermill": {
     "duration": 0.047431,
     "end_time": "2023-04-30T03:43:19.356999",
     "exception": false,
     "start_time": "2023-04-30T03:43:19.309568",
     "status": "completed"
    },
    "tags": []
   },
   "outputs": [
    {
     "data": {
      "application/javascript": [
       "parent.postMessage({\"jupyterEvent\": \"custom.exercise_interaction\", \"data\": {\"outcomeType\": 1, \"valueTowardsCompletion\": 0.16666666666666666, \"interactionType\": 1, \"questionType\": 1, \"questionId\": \"6_GroupbyCountryVariety\", \"learnToolsVersion\": \"0.3.4\", \"failureMessage\": \"\", \"exceptionClass\": \"\", \"trace\": \"\"}}, \"*\")"
      ],
      "text/plain": [
       "<IPython.core.display.Javascript object>"
      ]
     },
     "metadata": {},
     "output_type": "display_data"
    },
    {
     "data": {
      "text/markdown": [
       "<span style=\"color:#33cc33\">Correct</span>"
      ],
      "text/plain": [
       "Correct"
      ]
     },
     "metadata": {},
     "output_type": "display_data"
    }
   ],
   "source": [
    "country_variety_counts = reviews.groupby(['country','variety']).size().sort_values(ascending=False)\n",
    "\n",
    "# Check your answer\n",
    "q6.check()"
   ]
  },
  {
   "cell_type": "code",
   "execution_count": 14,
   "id": "a2bdd5b1",
   "metadata": {
    "execution": {
     "iopub.execute_input": "2023-04-30T03:43:19.373761Z",
     "iopub.status.busy": "2023-04-30T03:43:19.373329Z",
     "iopub.status.idle": "2023-04-30T03:43:19.378062Z",
     "shell.execute_reply": "2023-04-30T03:43:19.376935Z"
    },
    "papermill": {
     "duration": 0.015815,
     "end_time": "2023-04-30T03:43:19.380305",
     "exception": false,
     "start_time": "2023-04-30T03:43:19.364490",
     "status": "completed"
    },
    "tags": []
   },
   "outputs": [],
   "source": [
    "#q6.hint()\n",
    "#q6.solution()"
   ]
  },
  {
   "cell_type": "markdown",
   "id": "5c7273a3",
   "metadata": {
    "papermill": {
     "duration": 0.007123,
     "end_time": "2023-04-30T03:43:19.395103",
     "exception": false,
     "start_time": "2023-04-30T03:43:19.387980",
     "status": "completed"
    },
    "tags": []
   },
   "source": [
    "# Keep going\n",
    "\n",
    "Move on to the [**data types and missing data**](https://www.kaggle.com/residentmario/data-types-and-missing-values)."
   ]
  },
  {
   "cell_type": "markdown",
   "id": "fb71f9c9",
   "metadata": {
    "papermill": {
     "duration": 0.007626,
     "end_time": "2023-04-30T03:43:19.410212",
     "exception": false,
     "start_time": "2023-04-30T03:43:19.402586",
     "status": "completed"
    },
    "tags": []
   },
   "source": [
    "---\n",
    "\n",
    "\n",
    "\n",
    "\n",
    "*Have questions or comments? Visit the [course discussion forum](https://www.kaggle.com/learn/pandas/discussion) to chat with other learners.*"
   ]
  }
 ],
 "metadata": {
  "kernelspec": {
   "display_name": "Python 3",
   "language": "python",
   "name": "python3"
  },
  "language_info": {
   "codemirror_mode": {
    "name": "ipython",
    "version": 3
   },
   "file_extension": ".py",
   "mimetype": "text/x-python",
   "name": "python",
   "nbconvert_exporter": "python",
   "pygments_lexer": "ipython3",
   "version": "3.7.12"
  },
  "papermill": {
   "default_parameters": {},
   "duration": 13.827173,
   "end_time": "2023-04-30T03:43:20.139715",
   "environment_variables": {},
   "exception": null,
   "input_path": "__notebook__.ipynb",
   "output_path": "__notebook__.ipynb",
   "parameters": {},
   "start_time": "2023-04-30T03:43:06.312542",
   "version": "2.4.0"
  }
 },
 "nbformat": 4,
 "nbformat_minor": 5
}
